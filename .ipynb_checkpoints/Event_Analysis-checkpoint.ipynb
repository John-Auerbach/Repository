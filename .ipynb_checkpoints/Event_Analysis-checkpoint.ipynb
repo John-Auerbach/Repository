{
 "cells": [
  {
   "cell_type": "code",
   "execution_count": 1,
   "id": "a73f1986-23e9-4ffd-968e-54584511702c",
   "metadata": {
    "scrolled": true
   },
   "outputs": [
    {
     "name": "stdout",
     "output_type": "stream",
     "text": [
      "True\n",
      "True\n",
      "import done\n",
      "init uproot\n"
     ]
    }
   ],
   "source": [
    "#UNADJUSTED, ADJUSTED, AND ALL RATIOS MUST BE PLOTTED IN ORDER\n",
    "\n",
    "import uproot\n",
    "import awkward as ak\n",
    "import numpy as np\n",
    "import pandas as pd\n",
    "import math\n",
    "from mpmath import csc\n",
    "import matplotlib.pyplot as plt\n",
    "import matplotlib.gridspec as gridspec\n",
    "import matplotlib.ticker as ticker\n",
    "from matplotlib.ticker import FormatStrFormatter\n",
    "from IPython.display import Image, display\n",
    "from IPython.display import HTML\n",
    "import threading\n",
    "\n",
    "print('import done')\n",
    "\n",
    "np.seterr(divide='ignore', invalid='ignore') # Ignore division errors\n",
    "\n",
    "# Use pandas to make an array of values ordered by event ID\n",
    "features=['EventWeight', 'pt', 'phi', 'eta', 'probeCharge']\n",
    "for i in range(4):\n",
    "    features.append('dtDRbyStation_'+str(i))\n",
    "    features.append('dtDPhibyStation_'+str(i))\n",
    "    features.append('dtDEtabyStation_'+str(i))\n",
    "\n",
    "class Type:\n",
    "    def __init__(self, name, features):\n",
    "        self.name = name\n",
    "        self.File = uproot.open('/local/cms/user/revering/dphoton/slc7/CMSSW_10_6_17_patch1/src/DarkPhoton/MuAnalyzer/histograms/highHcal_'+str(name)+'_tagAligned.root')\n",
    "        self.Events = self.File['demo']['allEvents']['sigVariables']\n",
    "        self.branches = self.Events.arrays()\n",
    "        self.EventWeight = self.branches['EventWeight']\n",
    "        self.eta = self.branches['eta']\n",
    "        self.phi = self.branches['phi']\n",
    "\n",
    "        self.Events = self.Events.arrays(features, library='pd')\n",
    "        \n",
    "        \n",
    "        self.DR_S = []\n",
    "        self.DPhi_S = []\n",
    "        self.DEta_S = []\n",
    "\n",
    "        for i in range (4):\n",
    "            self.DR_S.append(self.branches['dtDRbyStation_' + str(i)])\n",
    "            self.DPhi_S.append(self.branches['dtDPhibyStation_' + str(i)])\n",
    "            self.DEta_S.append(self.branches['dtDEtabyStation_' + str(i)])\n",
    "\n",
    "        self.proximity_mask = []\n",
    "\n",
    "MC = Type('mc', features)\n",
    "Data = Type('data', features)\n",
    "\n",
    "\n",
    "print('init uproot')"
   ]
  },
  {
   "cell_type": "code",
   "execution_count": 2,
   "id": "1894fa31-3a08-4c52-ac4c-ea7592e97214",
   "metadata": {},
   "outputs": [
    {
     "name": "stdout",
     "output_type": "stream",
     "text": [
      "Index(['EventWeight', 'pt', 'phi', 'eta', 'probeCharge', 'dtDRbyStation_0',\n",
      "       'dtDPhibyStation_0', 'dtDEtabyStation_0', 'dtDRbyStation_1',\n",
      "       'dtDPhibyStation_1', 'dtDEtabyStation_1', 'dtDRbyStation_2',\n",
      "       'dtDPhibyStation_2', 'dtDEtabyStation_2', 'dtDRbyStation_3',\n",
      "       'dtDPhibyStation_3', 'dtDEtabyStation_3'],\n",
      "      dtype='object')\n",
      "43.28159440096003\n"
     ]
    }
   ],
   "source": [
    "#Data.File.keys()\n",
    "#Data.Events\n",
    "print(Data.Events.keys())\n",
    "print(np.mean(Data.branches['pt']))"
   ]
  },
  {
   "cell_type": "code",
   "execution_count": 3,
   "id": "241769f1-e2ab-4f61-b4b7-d3fe1d4e3b3b",
   "metadata": {},
   "outputs": [
    {
     "name": "stdout",
     "output_type": "stream",
     "text": [
      "Re-Binned points\n",
      "MC init DR_Bin_Station_0\n",
      "MC init DPhi_Bin_Station_0\n",
      "MC init DEta_Bin_Station_0\n",
      "MC init DR_Bin_Station_1\n",
      "MC init DPhi_Bin_Station_1\n",
      "MC init DEta_Bin_Station_1\n",
      "MC init DR_Bin_Station_2\n",
      "MC init DPhi_Bin_Station_2\n",
      "MC init DEta_Bin_Station_2\n",
      "MC init DR_Bin_Station_3\n",
      "MC init DPhi_Bin_Station_3\n",
      "MC init DEta_Bin_Station_3\n",
      "Data init DR_Bin_Station_3\n",
      "Data init DR_Bin_Station_1\n",
      "Data init DR_Bin_Station_2\n",
      "Data init DR_Bin_Station_0\n",
      "Data init DPhi_Bin_Station_3\n",
      "Data init DPhi_Bin_Station_1\n",
      "Data init DPhi_Bin_Station_0\n",
      "Data init DPhi_Bin_Station_2\n",
      "Data init DEta_Bin_Station_3\n",
      "Data init DEta_Bin_Station_1\n",
      "Data init DEta_Bin_Station_0\n",
      "Data init DEta_Bin_Station_2\n",
      "init dataframe\n",
      "init classes\n"
     ]
    }
   ],
   "source": [
    "#Coord refers to DR, DPhi, or DEta\n",
    "class Coord:\n",
    "    def __init__(self,name,x1,x2,bins):\n",
    "        self.name = name\n",
    "        self.x1 = x1\n",
    "        self.x2 = x2\n",
    "        self.bins = np.linspace(x1, x2, bins+1)  # creates an array of bin edges\n",
    "        self.bin_width = (x2 - x1) / bins\n",
    "\n",
    "DR = Coord('DR',-1,0.3,300)     # set delta coord edges/bin\n",
    "DPhi = Coord('DPhi',-3,3,200)   # set delta coord edges/bin\n",
    "DEta = Coord('DEta',-3,3,500)   # set delta coord edges/bin\n",
    "\n",
    "mc_eta_mask = abs(MC.Events['eta']) <= 0.85\n",
    "data_eta_mask = abs(Data.Events['eta']) <= 0.85\n",
    "\n",
    "MC.Events = MC.Events.loc[mc_eta_mask]\n",
    "Data.Events = Data.Events.loc[data_eta_mask]\n",
    "\n",
    "mc_pos_charge_mask = MC.Events['probeCharge'] > 0\n",
    "mc_neg_charge_mask = MC.Events['probeCharge'] < 0\n",
    "data_pos_charge_mask = Data.Events['probeCharge'] > 0\n",
    "data_neg_charge_mask = Data.Events['probeCharge'] < 0\n",
    "\n",
    "# Re-bin all points above 0.3 to -1\n",
    "for i in range(4):\n",
    "    MC.Events['dtDRbyStation_'+str(i)] = MC.Events['dtDRbyStation_'+str(i)].apply(lambda x: -1 if x > DR.x2 else x)\n",
    "    Data.Events['dtDRbyStation_'+str(i)] = Data.Events['dtDRbyStation_'+str(i)].apply(lambda x: -1 if x > DR.x2 else x)\n",
    "    MC.DR_S[i] = ak.Array(MC.Events['dtDRbyStation_'+str(i)])\n",
    "    Data.DR_S[i] = ak.Array(Data.Events['dtDRbyStation_'+str(i)])\n",
    "    \n",
    "    MC.Events['dtDPhibyStation_'+str(i)] = MC.Events['dtDPhibyStation_'+str(i)].apply(lambda x: -1 if abs(x) > DPhi.x2 else x) \n",
    "    Data.Events['dtDPhibyStation_'+str(i)] = Data.Events['dtDPhibyStation_'+str(i)].apply(lambda x: -1 if abs(x) > DPhi.x2 else x) \n",
    "    MC.DPhi_S[i] = ak.Array(MC.Events['dtDPhibyStation_'+str(i)])\n",
    "    Data.DPhi_S[i] = ak.Array(Data.Events['dtDPhibyStation_'+str(i)])\n",
    "    \n",
    "    MC.Events['dtDEtabyStation_'+str(i)] = MC.Events['dtDEtabyStation_'+str(i)].apply(lambda x: -1 if abs(x) > DEta.x2 else x) \n",
    "    Data.Events['dtEtabyStation_'+str(i)] = Data.Events['dtDEtabyStation_'+str(i)].apply(lambda x: -1 if abs(x) > DEta.x2 else x) \n",
    "    MC.DEta_S[i] = ak.Array(MC.Events['dtDEtabyStation_'+str(i)]) \n",
    "    Data.DEta_S[i] = ak.Array(Data.Events['dtDEtabyStation_'+str(i)])\n",
    "\n",
    "print('Re-Binned points')\n",
    "\n",
    "#---------------------------------------------------------------------------------------------------------------------------------------\n",
    "\n",
    "Coordinates = [DR, DPhi, DEta]\n",
    "for i in range(4):\n",
    "    for coord in Coordinates:\n",
    "        bin_indices = np.zeros_like(MC.DR_S[i].to_numpy())                      # Array for storing bin indices\n",
    "        for j, deltaCoord in enumerate(MC.DR_S[i]):                             # [(0, delta_R), (1, delta_R) ...] <--- list(enumerate(\")) should give this\n",
    "            bin_indices[j] = np.digitize(deltaCoord, coord.bins) - 1            # returns bin index for each delta coord\n",
    "            MC.Events[str(coord.name)+'_Bin_Station_'+str(i)] = bin_indices      # Add new column with bin indices\n",
    "        print('MC init '+str(coord.name)+'_Bin_Station_'+str(i))\n",
    "        \n",
    "def init_data(i):\n",
    "    for coord in Coordinates:\n",
    "        bin_indices = np.zeros_like(Data.DR_S[i].to_numpy())                      # Array for storing bin indices\n",
    "        for j, deltaCoord in enumerate(Data.DR_S[i]):                             # [(0, delta_R), (1, delta_R) ...] <--- list(enumerate(\")) should give this\n",
    "            bin_indices[j] = np.digitize(deltaCoord, coord.bins) - 1            # returns bin index for each delta coord\n",
    "            Data.Events[str(coord.name)+'_Bin_Station_'+str(i)] = bin_indices      # Add new column with bin indices      \n",
    "        print('Data init '+str(coord.name)+'_Bin_Station_'+str(i))\n",
    "    #print(mcEvents[:5])\n",
    "    \n",
    "t = []\n",
    "if __name__ ==\"__main__\": \n",
    "    for i in range(4):\n",
    "        t.append(threading.Thread(target=init_data, args=(i,)))\n",
    "    for i in range(4):\n",
    "        t[i].start()\n",
    "    for i in range(4):\n",
    "        t[i].join()\n",
    "\n",
    "print('init dataframe')\n",
    "\n",
    "# Initialize class to help calculate normalized histograms for any data set\n",
    "class NormalizedHist:\n",
    "    def __init__(self, data, view_bins, bin_width):\n",
    "        self.data = data[0]\n",
    "        self.view_bins = view_bins\n",
    "        self.bin_width = bin_width\n",
    "        self.norm_factor = 1 / (np.sum(self.data) * self.bin_width)              # normalization factor\n",
    "        self.temp = (data[1] + self.bin_width / 2)                               # offset bin edge values by + 1/2 bin\n",
    "        self.bin_centers = self.temp[:-1]                                        # cut last value to give bin center\n",
    "        self.freq = self.data * self.norm_factor                                 # normalized frequency\n",
    "        self.err = (self.data ** 0.5) * self.norm_factor                         # normalized vertical error bar\n",
    "\n",
    "print('init classes')"
   ]
  },
  {
   "cell_type": "code",
   "execution_count": 12,
   "id": "dff47424-45f1-4aa4-9c1a-aeb2d836cfcf",
   "metadata": {},
   "outputs": [
    {
     "name": "stdout",
     "output_type": "stream",
     "text": [
      "init generate_hist\n",
      "init compile_hist\n",
      "init plot_hist\n",
      "initialized\n"
     ]
    }
   ],
   "source": [
    "# Method for plotting histograms\n",
    "def generate_hist(condition, coord, charge, x1, x2, i, j, data):\n",
    "\n",
    "    charge_ = '' \n",
    "    charge_ = '(+) ' if charge == '+' else charge_\n",
    "    charge_ = '(-) ' if charge == '-' else charge_\n",
    "\n",
    "    if i == 0 and condition == 'unadjusted':\n",
    "        ratio_Station, ratio_Iter = data\n",
    "        if charge == '':\n",
    "            dataEvents = Data.Events.copy()\n",
    "            mcEvents = MC.Events.copy()\n",
    "        elif charge == '+':\n",
    "            dataEvents = Data.Events.loc[data_pos_charge_mask].copy()\n",
    "            mcEvents = MC.Events.loc[mc_pos_charge_mask].copy()\n",
    "        elif charge == '-':\n",
    "            dataEvents = Data.Events.loc[data_neg_charge_mask].copy()\n",
    "            mcEvents = MC.Events.loc[mc_neg_charge_mask].copy()\n",
    "    else:\n",
    "        ratio_Station, ratio_Iter, dataEvents, mcEvents = data\n",
    "\n",
    "    Data.DR_S[i] = ak.Array(dataEvents['dtDRbyStation_'+str(i)])\n",
    "    MC.DR_S[i] = ak.Array(mcEvents['dtDRbyStation_'+str(i)])\n",
    "    Data.DPhi_S[i] = ak.Array(dataEvents['dtDPhibyStation_'+str(i)])\n",
    "    MC.DPhi_S[i] = ak.Array(mcEvents['dtDPhibyStation_'+str(i)])\n",
    "    Data.DEta_S[i] = ak.Array(dataEvents['dtDEtabyStation_'+str(i)])\n",
    "    MC.DEta_S[i] = ak.Array(mcEvents['dtDEtabyStation_'+str(i)]) \n",
    "    MC.EventWeight = ak.Array(mcEvents['EventWeight'])\n",
    "    \n",
    "    if coord.name == 'DR':\n",
    "        station_Data = Data.DR_S[i]\n",
    "        station_MC = MC.DR_S[i]\n",
    "    elif coord.name == 'DPhi':\n",
    "        if charge == '':\n",
    "            station_Data = np.abs(Data.DPhi_S[i])\n",
    "            station_MC = np.abs(MC.DPhi_S[i])\n",
    "        else:\n",
    "            station_Data = Data.DPhi_S[i]\n",
    "            station_MC = MC.DPhi_S[i]\n",
    "    elif coord.name == 'DEta':\n",
    "        if charge == '':\n",
    "            station_Data = np.abs(Data.DEta_S[i])\n",
    "            station_MC = np.abs(MC.DEta_S[i]) \n",
    "        else: \n",
    "            station_Data = Data.DEta_S[i]\n",
    "            station_MC = MC.DEta_S[i] \n",
    "\n",
    "    if condition == 'unadjusted':\n",
    "        weights = MC.EventWeight\n",
    "    elif condition == 'adjusted':\n",
    "        weights = MC.EventWeight*mcEvents['Ratio_Station_'+str(j)].to_list()\n",
    "    elif condition == 'all ratios':\n",
    "        if i == 0:\n",
    "            mcEvents['All_Ratios'] = mcEvents['Ratio_Station_0']*mcEvents['Ratio_Station_1']*mcEvents['Ratio_Station_2']*mcEvents['Ratio_Station_3'] # by event\n",
    "        weights = MC.EventWeight*mcEvents['All_Ratios'].to_list()\n",
    "    elif condition == 'iterative':\n",
    "        if j == 0 and i == 0:\n",
    "            mcEvents['Ratio_Iter_0'] = mcEvents['Ratio_Station_0'].to_list()\n",
    "        weights = MC.EventWeight\n",
    "        for k in range(j+1):\n",
    "            weights = weights*mcEvents['Ratio_Iter_'+str(k)].to_list()\n",
    "\n",
    "    # Create numpy histogram data for Data & MC so ratio can be calculated by initializing each as NormalizedHist Class\n",
    "    data_hist = NormalizedHist(np.histogram(station_Data, bins=coord.bins), len(coord.bins), coord.bin_width)\n",
    "    mc_hist = NormalizedHist(np.histogram(station_MC, bins=coord.bins, weights=weights), len(coord.bins), coord.bin_width)\n",
    "        \n",
    "    if condition == 'adjusted' or condition == 'all ratios':\n",
    "        mc_hist_unadj = NormalizedHist(np.histogram(station_MC, bins=coord.bins, weights=MC.EventWeight), len(coord.bins), coord.bin_width)\n",
    "        adj_factor = np.divide(mc_hist.freq, mc_hist_unadj.freq + 1e-10)\n",
    "    elif condition == 'iterative':\n",
    "        if j == 0:\n",
    "            mc_hist_unadj = NormalizedHist(np.histogram(station_MC, bins=coord.bins, weights=MC.EventWeight), len(coord.bins), coord.bin_width)\n",
    "        else:\n",
    "            mc_hist_unadj = NormalizedHist(np.histogram(station_MC, bins=coord.bins, weights=MC.EventWeight*mcEvents['Ratio_Iter_'+str(j-1)].to_list()), len(coord.bins), coord.bin_width)\n",
    "        adj_factor = np.divide(mc_hist.freq, mc_hist_unadj.freq + 1e-10)\n",
    "    \n",
    "    ratio_freq = np.divide(data_hist.freq, mc_hist.freq)\n",
    "    ratio_freq = [1 if (math.isinf(x) or math.isnan(x)) else x for x in ratio_freq] # goodify the infinities\n",
    "    ratio_err = ratio_freq * np.sqrt((data_hist.err / (data_hist.freq + 1e-10))**2 + (mc_hist.err / (mc_hist.freq + 1e-10))**2) \n",
    "    \n",
    "    # calculate ratio error -> propagation of uncertainty\n",
    "\n",
    "    if condition == 'unadjusted':\n",
    "        # Loop over events, assign bin ratio to each event\n",
    "        ratio_Station.append(np.zeros_like(station_MC.to_numpy()))             # create empty array similar to DCoord for station[j]\n",
    "        for k, deltaCoord in enumerate(station_MC.to_numpy()):                 # [(0, delta_R), (1, delta_R) ...] <--- list(enumerate(\")) should give this\n",
    "            bin_index = np.digitize(deltaCoord, coord.bins) - 1                # returns bin index for each delta coord\n",
    "            if bin_index >= len(ratio_freq):                                   # check if index is out of bound\n",
    "                bin_index = len(ratio_freq) - 1                                # assign the last valid index\n",
    "            ratio_Station[i][k] = ratio_freq[bin_index]                        # find item k in array and change it to the ratio_freq of that bin index    \n",
    "        assert len(station_MC) == len(ratio_Station[i])            # make sure length matches\n",
    "        mcEvents['Ratio_Station_'+str(i)] = ratio_Station[i]       # add new column\n",
    "        ######### print(mcEvents['Ratio_Station_'+str(i)])\n",
    "\n",
    "    if condition == 'iterative' and i-1 == j:                                  # take ratio freq between Station_i Data and MC adjusted by ratio from station (i-1) adjusted MC for \n",
    "        ratio_iter = ratio_freq                                                # recall that ratio_freq has already been iterated in this case\n",
    "        # Loop over events, assign bin ratio to each event\n",
    "        ratio_Iter.append(np.zeros_like(station_MC.to_numpy()))                # create empty array similar to DCoord for station[j]\n",
    "        for k, deltaCoord in enumerate(station_MC.to_numpy()):                 # [(0, delta_R), (1, delta_R) ...] <--- list(enumerate(\")) should give this\n",
    "            bin_index = np.digitize(deltaCoord, coord.bins) - 1                # returns bin index for each delta coord\n",
    "            if bin_index >= len(ratio_iter):                                   # check if index is out of bound\n",
    "                bin_index = len(ratio_iter) - 1                                # assign the last valid index\n",
    "            ratio_Iter[j][k] = ratio_iter[bin_index]                           # find item k in array and change it to the ratio_iter of that bin index\n",
    "    \n",
    "        assert len(station_MC) == len(ratio_Iter[j])            # make sure length matches\n",
    "        mcEvents['Ratio_Iter_'+str(i)] = ratio_Iter[j]          # add new column\n",
    "\n",
    "\n",
    "    #PLOT -  -  -  -  -  -  -  -  -  -  -  -  -  -  -  -  -  -  -  -  -  -  -  -  -  -  -  -  -  -  -  -  -  -  -  -  -  -  -  -  -  -  -  -  -  -  -  -  -  -  -  -\n",
    "\n",
    "    # Adjusting axs[0].step from bin edge to bin center results in loss of first bar because it is shifted 1/2 bin width; this adds that point back at 0\n",
    "    step_bc = mc_hist.bin_centers+coord.bin_width/2\n",
    "    step_f = mc_hist.freq\n",
    "    step_bin_centers = np.insert(step_bc, 0, 0.0)\n",
    "    step_freq = np.insert(step_f, 0, mc_hist.freq[0])\n",
    "\n",
    "    # Set up histogram\n",
    "    fig = plt.figure(figsize=(7,5))\n",
    "    gs = gridspec.GridSpec(2, 2, height_ratios=[3, 1], width_ratios=[1, 19])\n",
    "\n",
    "    # Plot data as points, use bars for MC\n",
    "    ax0 = plt.subplot(gs[0, 1])\n",
    "    if condition == 'unadjusted':\n",
    "        ax0.set_title(charge_+'Distance to Station '+str(i))\n",
    "    elif condition == 'adjusted':\n",
    "        ax0.set_title(charge_+'Distance to Station '+str(i)+' Weighted by Station '+str(j)+' Ratios')\n",
    "    elif condition == 'all ratios':\n",
    "        ax0.set_title(charge_+'Distance to Station '+str(i)+' Weighted by All Ratios')\n",
    "    elif condition == 'iterative':\n",
    "        ax0.set_title(charge_+'Distance to Station '+str(i)+' Weighted by Iterative Ratios '+str(j))\n",
    "    ax0.set_yscale(\"log\")\n",
    "    ax0.set_xlim(x1, x2)\n",
    "    ax0.step(step_bin_centers, step_freq, label='Monte Carlo')\n",
    "    ax0.scatter(data_hist.bin_centers, data_hist.freq, s=10, color='darkorange', label='Data')\n",
    "    ax0.errorbar(data_hist.bin_centers, data_hist.freq, xerr=coord.bin_width/2, yerr=mc_hist.err, fmt='+')\n",
    "    if x2-x1 <= 0.35: ax0.xaxis.set_major_locator(ticker.MultipleLocator(0.01))\n",
    "    plt.setp(ax0.get_xticklabels(), visible=False) # remove x ticks from top right\n",
    "    plt.setp(ax0.get_yticklabels(), visible=False) # remove y ticks from top right\n",
    "    ax0.legend()\n",
    "    # Show mean and std for MC\n",
    "    if charge == '' and (coord.name == 'DEta' or coord.name == 'DPhi') :\n",
    "        textstr = '\\n'.join((\n",
    "        r'$\\mathrm{MC \\ mean}=%.4f$' % (np.mean(station_MC[station_MC != 1]), ),\n",
    "        r'$\\mathrm{MC \\ }\\sigma=%.4f$' % (np.std(station_MC[station_MC != 1]), )))\n",
    "    else:\n",
    "        textstr = '\\n'.join((\n",
    "        r'$\\mathrm{MC \\ mean}=%.4f$' % (np.mean(station_MC[station_MC != -1]), ),\n",
    "        r'$\\mathrm{MC \\ }\\sigma=%.4f$' % (np.std(station_MC[station_MC != -1]), )))\n",
    "    props = dict(boxstyle='round', facecolor='white', alpha=0.5)\n",
    "    ax0.text(0.98, 0.78, textstr, transform=ax0.transAxes, fontsize=10,\n",
    "        verticalalignment='top', horizontalalignment='right', bbox=props) \n",
    "    \n",
    "    # Scatter ratio plot\n",
    "    ax1 = plt.subplot(gs[1, 1], sharex = ax0)\n",
    "    ax1.scatter(data_hist.bin_centers, ratio_freq, s=10)\n",
    "    ax1.errorbar(data_hist.bin_centers, ratio_freq, yerr=ratio_err, fmt='+')\n",
    "    ax1.set_ylim(0,2)\n",
    "    ax1.set_xlabel('$\\Delta$'+coord.name[1:]+' to Station '+str(i))\n",
    "    if x2-x1 <= 0.35: plt.setp(ax1.xaxis.get_majorticklabels(), rotation=90)\n",
    "    plt.setp(ax1.get_yticklabels(), visible=False) # remove y ticks from bottom right\n",
    "\n",
    "    # Plot underflow bins    \n",
    "    ax2 = plt.subplot(gs[0, 0], sharey=ax0)\n",
    "    ax2.step(step_bin_centers-coord.bin_width, step_freq, label='Monte Carlo')\n",
    "    ax2.scatter(data_hist.bin_centers, data_hist.freq, s=10, color='darkorange', label='Data')\n",
    "    ax2.errorbar(data_hist.bin_centers, data_hist.freq, xerr=coord.bin_width/2, yerr=mc_hist.err, fmt='+')\n",
    "    ax2.set_xlim(-1, -1+coord.bin_width)\n",
    "    ax2.set_ylabel('Event Frequency (Normalized)')\n",
    "    plt.setp(ax2.get_xticklabels(), visible=False) # remove x ticks from top left\n",
    "\n",
    "    # Plot underflow ratio\n",
    "    ax3 = plt.subplot(gs[1, 0], sharey=ax1, sharex=ax2)\n",
    "    ax3.scatter(data_hist.bin_centers, ratio_freq, s=10)\n",
    "    ax3.errorbar(data_hist.bin_centers, ratio_freq, yerr=ratio_err, fmt='+')\n",
    "    ax3.set_ylim(0,2)\n",
    "    ax3.set_ylabel('Ratio')\n",
    "    # Show only the first tick label for the bottom left subplot as integer\n",
    "    xticks = ax3.xaxis.get_major_ticks()\n",
    "    plt.setp(ax3.get_xticklabels(), visible=False)\n",
    "    xticks[0].label1.set_visible(True)\n",
    "    ax3.xaxis.set_major_formatter(FormatStrFormatter('%.0f'))\n",
    "    ax3.tick_params(axis='x', length=0)\n",
    "\n",
    "    # Remove vertical gap between subplots\n",
    "    plt.subplots_adjust(wspace=0.0, hspace=0.0)\n",
    "\n",
    "    # Save plots as .jpg\n",
    "    if condition == 'unadjusted':\n",
    "        plt.savefig(charge_+coord.name+' Distance to Station '+str(i)+'.jpg')\n",
    "    elif condition == 'adjusted':\n",
    "        plt.savefig(charge_+coord.name+' Distance to Station '+str(i)+' Weighted by Station '+str(j)+' Ratios.jpg')\n",
    "    elif condition == 'all ratios':\n",
    "        plt.savefig(charge_+coord.name+' Distance to Station '+str(i)+' Weighted by All Ratios.jpg')\n",
    "    elif condition == 'iterative':\n",
    "        plt.savefig(charge_+coord.name+' Distance to Station '+str(i)+' Weighted by Iterative Ratios '+str(j)+'.jpg')\n",
    "    plt.close() # prevents figure from being displayed when code cell is executed\n",
    "\n",
    "    # Plot ratios\n",
    "    if condition != 'unadjusted':\n",
    "        fig, axs = plt.subplots(1, 2, sharey=True, gridspec_kw={'wspace': 0, 'width_ratios': [1, 19]}, figsize=(7, 5))\n",
    "        axs[0].scatter(data_hist.bin_centers, adj_factor)\n",
    "        axs[0].set_xlim(-1,-1+coord.bin_width)\n",
    "        axs[1].scatter(data_hist.bin_centers, adj_factor)\n",
    "        axs[1].set_xlim(0,x2)\n",
    "        plt.xlabel('$\\Delta$'+coord.name[1:]+' to Station '+str(j))\n",
    "        axs[0].set_ylabel('Adjustment Factor')\n",
    "        # Show only the first tick label for the left subplot as integer\n",
    "        xticks = axs[0].xaxis.get_major_ticks()\n",
    "        plt.setp(axs[0].get_xticklabels(), visible=False)\n",
    "        xticks[0].label1.set_visible(True)\n",
    "        axs[0].xaxis.set_major_formatter(FormatStrFormatter('%.0f'))\n",
    "        axs[0].tick_params(axis='x', length=0)\n",
    "        if condition == 'adjusted':\n",
    "            plt.title(charge_+'Net Adjustment by Station '+str(j)+' Ratios for Station '+str(i))\n",
    "            plt.savefig(charge_+coord.name+' Net Adjustment by Station '+str(j)+' Ratios for Station '+str(i)+'.jpg')\n",
    "        elif condition == 'all ratios':\n",
    "            plt.title(charge_+'Net Adjustment by All Ratios for Station '+str(i))\n",
    "            plt.savefig(charge_+coord.name+' Net Adjustment by All Ratios for Station '+str(i)+'.jpg')\n",
    "        elif condition == 'iterative':\n",
    "            plt.title(charge_+'Net Adjustment by Iterative Ratios '+str(j)+' for Station '+str(i))\n",
    "            plt.savefig(charge_+coord.name+' Net Adjustment by Iterative Ratios '+str(j)+' for Station '+str(i)+'.jpg')\n",
    "        plt.close()\n",
    "    return ratio_Station, ratio_Iter, dataEvents, mcEvents\n",
    "\n",
    "print('init generate_hist')\n",
    "# - - - - - - - - - - - - - - - - - - - - - - - - - - - - - - - - - - - - - - - - - - -\n",
    "    \n",
    "def compile_hist(coord, charge, x1, x2):\n",
    "    ratio_Station = []\n",
    "    ratio_Iter = []\n",
    "    data = ratio_Station, ratio_Iter\n",
    "    for i in range (4):\n",
    "        data = generate_hist(condition='unadjusted', coord=coord, charge=charge, x1=x1, x2=x2, i=i, j=0, data=data)\n",
    "    print('compiled unadjusted')\n",
    "\n",
    "    for j in range (4):                          #j iterates through station weights\n",
    "        for i in range (4):                      #i iterates through stations\n",
    "            data = generate_hist(condition='adjusted', coord=coord, charge=charge, x1=x1, x2=x2, i=i, j=j, data=data)\n",
    "    print('compiled adjusted')\n",
    "\n",
    "    for i in range (4):                    \n",
    "        data = generate_hist(condition='all ratios', coord=coord, charge=charge, x1=x1, x2=x2, i=i, j=0, data=data)\n",
    "    print('compiled all ratios')\n",
    "\n",
    "    for j in range (4):                          \n",
    "        for i in range (4):                      \n",
    "            data = generate_hist(condition='iterative', coord=coord, charge=charge, x1=x1, x2=x2, i=i, j=j, data=data)\n",
    "    print('compiled iterative')\n",
    "\n",
    "    return data\n",
    "        \n",
    "print('init compile_hist')\n",
    "\n",
    "# - - - - - - - - - - - - - - - - - - - - - - - - - - - - - - - - - - - - - - - - - - -\n",
    "\n",
    "def plot_hist(coord, charge):\n",
    "\n",
    "    charge_ = '' \n",
    "    charge_ = '(+) ' if charge == '+' else charge_\n",
    "    charge_ = '(-) ' if charge == '-' else charge_\n",
    "\n",
    "    for j in range(4):\n",
    "        for k in range(2):\n",
    "            print(\"\\n\") \n",
    "        print('                            ------------------------------------------------------------------------------- All Stations Weighted by Station '+str(j)+' Ratios: -------------------------------------------------------------------------------')\n",
    "        for k in range(2):\n",
    "            print(\"\\n\")\n",
    "        for i in range(4):\n",
    "            display(HTML(\"<table><tr><td><img src='\"+charge_+\"\"+coord.name+\" Distance to Station \"+str(i)+\".jpg'></td><td><img src='\"+charge_+\"\"+coord.name+\" Net Adjustment by Station \"+str(j)+\" Ratios for Station \"+str(i)+\".jpg'></td><td><img src='\"+charge_+\"\"+coord.name+\" Distance to Station \"+str(i)+\" Weighted by Station \"+str(j)+\" Ratios.jpg'></td></tr></table>\"))\n",
    "    \n",
    "    for k in range(2):\n",
    "        print(\"\\n\") \n",
    "    print('                            ------------------------------------------------------------------------------- All Stations Weighted by All Ratios: -------------------------------------------------------------------------------')\n",
    "    for k in range(2):\n",
    "        print(\"\\n\")\n",
    "    for i in range(4):\n",
    "        display(HTML(\"<table><tr><td><img src='\"+charge_+\"\"+coord.name+\" Distance to Station \"+str(i)+\".jpg'></td><td><img src='\"+charge_+\"\"+coord.name+\" Net Adjustment by All Ratios for Station \"+str(i)+\".jpg'></td><td><img src='\"+charge_+\"\"+coord.name+\" Distance to Station \"+str(i)+\" Weighted by All Ratios.jpg'></td></tr></table>\"))\n",
    "\n",
    "    for j in range(4):\n",
    "        for k in range(2):\n",
    "            print(\"\\n\") \n",
    "        print('                            ------------------------------------------------------------------------------- All Stations Weighted by Iterative Ratios '+str(j)+': -------------------------------------------------------------------------------')\n",
    "        for k in range(2):\n",
    "            print(\"\\n\")\n",
    "        for i in range(4):\n",
    "            display(HTML(\"<table><tr><td><img src='\"+charge_+\"\"+coord.name+\" Distance to Station \"+str(i)+\".jpg'></td><td><img src='\"+charge_+\"\"+coord.name+\" Net Adjustment by Iterative Ratios \"+str(j)+\" for Station \"+str(i)+\".jpg'></td><td><img src='\"+charge_+\"\"+coord.name+\" Distance to Station \"+str(i)+\" Weighted by Iterative Ratios \"+str(j)+\".jpg'></td></tr></table>\"))\n",
    "\n",
    "print('init plot_hist')\n",
    "\n",
    "print('initialized')\n",
    "\n",
    "def plot_charge_hist(coord):\n",
    "    for i in range(4):\n",
    "            display(HTML(\"<table><tr><td><img src='(+) \"+coord.name+\" Distance to Station \"+str(i)+\".jpg'></td><td><img src='(-) \"+coord.name+\" Distance to Station \"+str(i)+\".jpg'></td></tr></table>\"))"
   ]
  },
  {
   "cell_type": "code",
   "execution_count": 13,
   "id": "93441d8a-f93c-4fa1-b7ff-50a38e920472",
   "metadata": {
    "scrolled": true
   },
   "outputs": [
    {
     "name": "stdout",
     "output_type": "stream",
     "text": [
      "compiled unadjusted\n",
      "compiled adjusted\n",
      "compiled all ratios\n",
      "compiled iterative\n",
      "\n",
      "\n",
      "\n",
      "\n",
      "                            ------------------------------------------------------------------------------- All Stations Weighted by Station 0 Ratios: -------------------------------------------------------------------------------\n",
      "\n",
      "\n",
      "\n",
      "\n"
     ]
    },
    {
     "data": {
      "text/html": [
       "<table><tr><td><img src='DR Distance to Station 0.jpg'></td><td><img src='DR Net Adjustment by Station 0 Ratios for Station 0.jpg'></td><td><img src='DR Distance to Station 0 Weighted by Station 0 Ratios.jpg'></td></tr></table>"
      ],
      "text/plain": [
       "<IPython.core.display.HTML object>"
      ]
     },
     "metadata": {},
     "output_type": "display_data"
    },
    {
     "data": {
      "text/html": [
       "<table><tr><td><img src='DR Distance to Station 1.jpg'></td><td><img src='DR Net Adjustment by Station 0 Ratios for Station 1.jpg'></td><td><img src='DR Distance to Station 1 Weighted by Station 0 Ratios.jpg'></td></tr></table>"
      ],
      "text/plain": [
       "<IPython.core.display.HTML object>"
      ]
     },
     "metadata": {},
     "output_type": "display_data"
    },
    {
     "data": {
      "text/html": [
       "<table><tr><td><img src='DR Distance to Station 2.jpg'></td><td><img src='DR Net Adjustment by Station 0 Ratios for Station 2.jpg'></td><td><img src='DR Distance to Station 2 Weighted by Station 0 Ratios.jpg'></td></tr></table>"
      ],
      "text/plain": [
       "<IPython.core.display.HTML object>"
      ]
     },
     "metadata": {},
     "output_type": "display_data"
    },
    {
     "data": {
      "text/html": [
       "<table><tr><td><img src='DR Distance to Station 3.jpg'></td><td><img src='DR Net Adjustment by Station 0 Ratios for Station 3.jpg'></td><td><img src='DR Distance to Station 3 Weighted by Station 0 Ratios.jpg'></td></tr></table>"
      ],
      "text/plain": [
       "<IPython.core.display.HTML object>"
      ]
     },
     "metadata": {},
     "output_type": "display_data"
    },
    {
     "name": "stdout",
     "output_type": "stream",
     "text": [
      "\n",
      "\n",
      "\n",
      "\n",
      "                            ------------------------------------------------------------------------------- All Stations Weighted by Station 1 Ratios: -------------------------------------------------------------------------------\n",
      "\n",
      "\n",
      "\n",
      "\n"
     ]
    },
    {
     "data": {
      "text/html": [
       "<table><tr><td><img src='DR Distance to Station 0.jpg'></td><td><img src='DR Net Adjustment by Station 1 Ratios for Station 0.jpg'></td><td><img src='DR Distance to Station 0 Weighted by Station 1 Ratios.jpg'></td></tr></table>"
      ],
      "text/plain": [
       "<IPython.core.display.HTML object>"
      ]
     },
     "metadata": {},
     "output_type": "display_data"
    },
    {
     "data": {
      "text/html": [
       "<table><tr><td><img src='DR Distance to Station 1.jpg'></td><td><img src='DR Net Adjustment by Station 1 Ratios for Station 1.jpg'></td><td><img src='DR Distance to Station 1 Weighted by Station 1 Ratios.jpg'></td></tr></table>"
      ],
      "text/plain": [
       "<IPython.core.display.HTML object>"
      ]
     },
     "metadata": {},
     "output_type": "display_data"
    },
    {
     "data": {
      "text/html": [
       "<table><tr><td><img src='DR Distance to Station 2.jpg'></td><td><img src='DR Net Adjustment by Station 1 Ratios for Station 2.jpg'></td><td><img src='DR Distance to Station 2 Weighted by Station 1 Ratios.jpg'></td></tr></table>"
      ],
      "text/plain": [
       "<IPython.core.display.HTML object>"
      ]
     },
     "metadata": {},
     "output_type": "display_data"
    },
    {
     "data": {
      "text/html": [
       "<table><tr><td><img src='DR Distance to Station 3.jpg'></td><td><img src='DR Net Adjustment by Station 1 Ratios for Station 3.jpg'></td><td><img src='DR Distance to Station 3 Weighted by Station 1 Ratios.jpg'></td></tr></table>"
      ],
      "text/plain": [
       "<IPython.core.display.HTML object>"
      ]
     },
     "metadata": {},
     "output_type": "display_data"
    },
    {
     "name": "stdout",
     "output_type": "stream",
     "text": [
      "\n",
      "\n",
      "\n",
      "\n",
      "                            ------------------------------------------------------------------------------- All Stations Weighted by Station 2 Ratios: -------------------------------------------------------------------------------\n",
      "\n",
      "\n",
      "\n",
      "\n"
     ]
    },
    {
     "data": {
      "text/html": [
       "<table><tr><td><img src='DR Distance to Station 0.jpg'></td><td><img src='DR Net Adjustment by Station 2 Ratios for Station 0.jpg'></td><td><img src='DR Distance to Station 0 Weighted by Station 2 Ratios.jpg'></td></tr></table>"
      ],
      "text/plain": [
       "<IPython.core.display.HTML object>"
      ]
     },
     "metadata": {},
     "output_type": "display_data"
    },
    {
     "data": {
      "text/html": [
       "<table><tr><td><img src='DR Distance to Station 1.jpg'></td><td><img src='DR Net Adjustment by Station 2 Ratios for Station 1.jpg'></td><td><img src='DR Distance to Station 1 Weighted by Station 2 Ratios.jpg'></td></tr></table>"
      ],
      "text/plain": [
       "<IPython.core.display.HTML object>"
      ]
     },
     "metadata": {},
     "output_type": "display_data"
    },
    {
     "data": {
      "text/html": [
       "<table><tr><td><img src='DR Distance to Station 2.jpg'></td><td><img src='DR Net Adjustment by Station 2 Ratios for Station 2.jpg'></td><td><img src='DR Distance to Station 2 Weighted by Station 2 Ratios.jpg'></td></tr></table>"
      ],
      "text/plain": [
       "<IPython.core.display.HTML object>"
      ]
     },
     "metadata": {},
     "output_type": "display_data"
    },
    {
     "data": {
      "text/html": [
       "<table><tr><td><img src='DR Distance to Station 3.jpg'></td><td><img src='DR Net Adjustment by Station 2 Ratios for Station 3.jpg'></td><td><img src='DR Distance to Station 3 Weighted by Station 2 Ratios.jpg'></td></tr></table>"
      ],
      "text/plain": [
       "<IPython.core.display.HTML object>"
      ]
     },
     "metadata": {},
     "output_type": "display_data"
    },
    {
     "name": "stdout",
     "output_type": "stream",
     "text": [
      "\n",
      "\n",
      "\n",
      "\n",
      "                            ------------------------------------------------------------------------------- All Stations Weighted by Station 3 Ratios: -------------------------------------------------------------------------------\n",
      "\n",
      "\n",
      "\n",
      "\n"
     ]
    },
    {
     "data": {
      "text/html": [
       "<table><tr><td><img src='DR Distance to Station 0.jpg'></td><td><img src='DR Net Adjustment by Station 3 Ratios for Station 0.jpg'></td><td><img src='DR Distance to Station 0 Weighted by Station 3 Ratios.jpg'></td></tr></table>"
      ],
      "text/plain": [
       "<IPython.core.display.HTML object>"
      ]
     },
     "metadata": {},
     "output_type": "display_data"
    },
    {
     "data": {
      "text/html": [
       "<table><tr><td><img src='DR Distance to Station 1.jpg'></td><td><img src='DR Net Adjustment by Station 3 Ratios for Station 1.jpg'></td><td><img src='DR Distance to Station 1 Weighted by Station 3 Ratios.jpg'></td></tr></table>"
      ],
      "text/plain": [
       "<IPython.core.display.HTML object>"
      ]
     },
     "metadata": {},
     "output_type": "display_data"
    },
    {
     "data": {
      "text/html": [
       "<table><tr><td><img src='DR Distance to Station 2.jpg'></td><td><img src='DR Net Adjustment by Station 3 Ratios for Station 2.jpg'></td><td><img src='DR Distance to Station 2 Weighted by Station 3 Ratios.jpg'></td></tr></table>"
      ],
      "text/plain": [
       "<IPython.core.display.HTML object>"
      ]
     },
     "metadata": {},
     "output_type": "display_data"
    },
    {
     "data": {
      "text/html": [
       "<table><tr><td><img src='DR Distance to Station 3.jpg'></td><td><img src='DR Net Adjustment by Station 3 Ratios for Station 3.jpg'></td><td><img src='DR Distance to Station 3 Weighted by Station 3 Ratios.jpg'></td></tr></table>"
      ],
      "text/plain": [
       "<IPython.core.display.HTML object>"
      ]
     },
     "metadata": {},
     "output_type": "display_data"
    },
    {
     "name": "stdout",
     "output_type": "stream",
     "text": [
      "\n",
      "\n",
      "\n",
      "\n",
      "                            ------------------------------------------------------------------------------- All Stations Weighted by All Ratios: -------------------------------------------------------------------------------\n",
      "\n",
      "\n",
      "\n",
      "\n"
     ]
    },
    {
     "data": {
      "text/html": [
       "<table><tr><td><img src='DR Distance to Station 0.jpg'></td><td><img src='DR Net Adjustment by All Ratios for Station 0.jpg'></td><td><img src='DR Distance to Station 0 Weighted by All Ratios.jpg'></td></tr></table>"
      ],
      "text/plain": [
       "<IPython.core.display.HTML object>"
      ]
     },
     "metadata": {},
     "output_type": "display_data"
    },
    {
     "data": {
      "text/html": [
       "<table><tr><td><img src='DR Distance to Station 1.jpg'></td><td><img src='DR Net Adjustment by All Ratios for Station 1.jpg'></td><td><img src='DR Distance to Station 1 Weighted by All Ratios.jpg'></td></tr></table>"
      ],
      "text/plain": [
       "<IPython.core.display.HTML object>"
      ]
     },
     "metadata": {},
     "output_type": "display_data"
    },
    {
     "data": {
      "text/html": [
       "<table><tr><td><img src='DR Distance to Station 2.jpg'></td><td><img src='DR Net Adjustment by All Ratios for Station 2.jpg'></td><td><img src='DR Distance to Station 2 Weighted by All Ratios.jpg'></td></tr></table>"
      ],
      "text/plain": [
       "<IPython.core.display.HTML object>"
      ]
     },
     "metadata": {},
     "output_type": "display_data"
    },
    {
     "data": {
      "text/html": [
       "<table><tr><td><img src='DR Distance to Station 3.jpg'></td><td><img src='DR Net Adjustment by All Ratios for Station 3.jpg'></td><td><img src='DR Distance to Station 3 Weighted by All Ratios.jpg'></td></tr></table>"
      ],
      "text/plain": [
       "<IPython.core.display.HTML object>"
      ]
     },
     "metadata": {},
     "output_type": "display_data"
    },
    {
     "name": "stdout",
     "output_type": "stream",
     "text": [
      "\n",
      "\n",
      "\n",
      "\n",
      "                            ------------------------------------------------------------------------------- All Stations Weighted by Iterative Ratios 0: -------------------------------------------------------------------------------\n",
      "\n",
      "\n",
      "\n",
      "\n"
     ]
    },
    {
     "data": {
      "text/html": [
       "<table><tr><td><img src='DR Distance to Station 0.jpg'></td><td><img src='DR Net Adjustment by Iterative Ratios 0 for Station 0.jpg'></td><td><img src='DR Distance to Station 0 Weighted by Iterative Ratios 0.jpg'></td></tr></table>"
      ],
      "text/plain": [
       "<IPython.core.display.HTML object>"
      ]
     },
     "metadata": {},
     "output_type": "display_data"
    },
    {
     "data": {
      "text/html": [
       "<table><tr><td><img src='DR Distance to Station 1.jpg'></td><td><img src='DR Net Adjustment by Iterative Ratios 0 for Station 1.jpg'></td><td><img src='DR Distance to Station 1 Weighted by Iterative Ratios 0.jpg'></td></tr></table>"
      ],
      "text/plain": [
       "<IPython.core.display.HTML object>"
      ]
     },
     "metadata": {},
     "output_type": "display_data"
    },
    {
     "data": {
      "text/html": [
       "<table><tr><td><img src='DR Distance to Station 2.jpg'></td><td><img src='DR Net Adjustment by Iterative Ratios 0 for Station 2.jpg'></td><td><img src='DR Distance to Station 2 Weighted by Iterative Ratios 0.jpg'></td></tr></table>"
      ],
      "text/plain": [
       "<IPython.core.display.HTML object>"
      ]
     },
     "metadata": {},
     "output_type": "display_data"
    },
    {
     "data": {
      "text/html": [
       "<table><tr><td><img src='DR Distance to Station 3.jpg'></td><td><img src='DR Net Adjustment by Iterative Ratios 0 for Station 3.jpg'></td><td><img src='DR Distance to Station 3 Weighted by Iterative Ratios 0.jpg'></td></tr></table>"
      ],
      "text/plain": [
       "<IPython.core.display.HTML object>"
      ]
     },
     "metadata": {},
     "output_type": "display_data"
    },
    {
     "name": "stdout",
     "output_type": "stream",
     "text": [
      "\n",
      "\n",
      "\n",
      "\n",
      "                            ------------------------------------------------------------------------------- All Stations Weighted by Iterative Ratios 1: -------------------------------------------------------------------------------\n",
      "\n",
      "\n",
      "\n",
      "\n"
     ]
    },
    {
     "data": {
      "text/html": [
       "<table><tr><td><img src='DR Distance to Station 0.jpg'></td><td><img src='DR Net Adjustment by Iterative Ratios 1 for Station 0.jpg'></td><td><img src='DR Distance to Station 0 Weighted by Iterative Ratios 1.jpg'></td></tr></table>"
      ],
      "text/plain": [
       "<IPython.core.display.HTML object>"
      ]
     },
     "metadata": {},
     "output_type": "display_data"
    },
    {
     "data": {
      "text/html": [
       "<table><tr><td><img src='DR Distance to Station 1.jpg'></td><td><img src='DR Net Adjustment by Iterative Ratios 1 for Station 1.jpg'></td><td><img src='DR Distance to Station 1 Weighted by Iterative Ratios 1.jpg'></td></tr></table>"
      ],
      "text/plain": [
       "<IPython.core.display.HTML object>"
      ]
     },
     "metadata": {},
     "output_type": "display_data"
    },
    {
     "data": {
      "text/html": [
       "<table><tr><td><img src='DR Distance to Station 2.jpg'></td><td><img src='DR Net Adjustment by Iterative Ratios 1 for Station 2.jpg'></td><td><img src='DR Distance to Station 2 Weighted by Iterative Ratios 1.jpg'></td></tr></table>"
      ],
      "text/plain": [
       "<IPython.core.display.HTML object>"
      ]
     },
     "metadata": {},
     "output_type": "display_data"
    },
    {
     "data": {
      "text/html": [
       "<table><tr><td><img src='DR Distance to Station 3.jpg'></td><td><img src='DR Net Adjustment by Iterative Ratios 1 for Station 3.jpg'></td><td><img src='DR Distance to Station 3 Weighted by Iterative Ratios 1.jpg'></td></tr></table>"
      ],
      "text/plain": [
       "<IPython.core.display.HTML object>"
      ]
     },
     "metadata": {},
     "output_type": "display_data"
    },
    {
     "name": "stdout",
     "output_type": "stream",
     "text": [
      "\n",
      "\n",
      "\n",
      "\n",
      "                            ------------------------------------------------------------------------------- All Stations Weighted by Iterative Ratios 2: -------------------------------------------------------------------------------\n",
      "\n",
      "\n",
      "\n",
      "\n"
     ]
    },
    {
     "data": {
      "text/html": [
       "<table><tr><td><img src='DR Distance to Station 0.jpg'></td><td><img src='DR Net Adjustment by Iterative Ratios 2 for Station 0.jpg'></td><td><img src='DR Distance to Station 0 Weighted by Iterative Ratios 2.jpg'></td></tr></table>"
      ],
      "text/plain": [
       "<IPython.core.display.HTML object>"
      ]
     },
     "metadata": {},
     "output_type": "display_data"
    },
    {
     "data": {
      "text/html": [
       "<table><tr><td><img src='DR Distance to Station 1.jpg'></td><td><img src='DR Net Adjustment by Iterative Ratios 2 for Station 1.jpg'></td><td><img src='DR Distance to Station 1 Weighted by Iterative Ratios 2.jpg'></td></tr></table>"
      ],
      "text/plain": [
       "<IPython.core.display.HTML object>"
      ]
     },
     "metadata": {},
     "output_type": "display_data"
    },
    {
     "data": {
      "text/html": [
       "<table><tr><td><img src='DR Distance to Station 2.jpg'></td><td><img src='DR Net Adjustment by Iterative Ratios 2 for Station 2.jpg'></td><td><img src='DR Distance to Station 2 Weighted by Iterative Ratios 2.jpg'></td></tr></table>"
      ],
      "text/plain": [
       "<IPython.core.display.HTML object>"
      ]
     },
     "metadata": {},
     "output_type": "display_data"
    },
    {
     "data": {
      "text/html": [
       "<table><tr><td><img src='DR Distance to Station 3.jpg'></td><td><img src='DR Net Adjustment by Iterative Ratios 2 for Station 3.jpg'></td><td><img src='DR Distance to Station 3 Weighted by Iterative Ratios 2.jpg'></td></tr></table>"
      ],
      "text/plain": [
       "<IPython.core.display.HTML object>"
      ]
     },
     "metadata": {},
     "output_type": "display_data"
    },
    {
     "name": "stdout",
     "output_type": "stream",
     "text": [
      "\n",
      "\n",
      "\n",
      "\n",
      "                            ------------------------------------------------------------------------------- All Stations Weighted by Iterative Ratios 3: -------------------------------------------------------------------------------\n",
      "\n",
      "\n",
      "\n",
      "\n"
     ]
    },
    {
     "data": {
      "text/html": [
       "<table><tr><td><img src='DR Distance to Station 0.jpg'></td><td><img src='DR Net Adjustment by Iterative Ratios 3 for Station 0.jpg'></td><td><img src='DR Distance to Station 0 Weighted by Iterative Ratios 3.jpg'></td></tr></table>"
      ],
      "text/plain": [
       "<IPython.core.display.HTML object>"
      ]
     },
     "metadata": {},
     "output_type": "display_data"
    },
    {
     "data": {
      "text/html": [
       "<table><tr><td><img src='DR Distance to Station 1.jpg'></td><td><img src='DR Net Adjustment by Iterative Ratios 3 for Station 1.jpg'></td><td><img src='DR Distance to Station 1 Weighted by Iterative Ratios 3.jpg'></td></tr></table>"
      ],
      "text/plain": [
       "<IPython.core.display.HTML object>"
      ]
     },
     "metadata": {},
     "output_type": "display_data"
    },
    {
     "data": {
      "text/html": [
       "<table><tr><td><img src='DR Distance to Station 2.jpg'></td><td><img src='DR Net Adjustment by Iterative Ratios 3 for Station 2.jpg'></td><td><img src='DR Distance to Station 2 Weighted by Iterative Ratios 3.jpg'></td></tr></table>"
      ],
      "text/plain": [
       "<IPython.core.display.HTML object>"
      ]
     },
     "metadata": {},
     "output_type": "display_data"
    },
    {
     "data": {
      "text/html": [
       "<table><tr><td><img src='DR Distance to Station 3.jpg'></td><td><img src='DR Net Adjustment by Iterative Ratios 3 for Station 3.jpg'></td><td><img src='DR Distance to Station 3 Weighted by Iterative Ratios 3.jpg'></td></tr></table>"
      ],
      "text/plain": [
       "<IPython.core.display.HTML object>"
      ]
     },
     "metadata": {},
     "output_type": "display_data"
    }
   ],
   "source": [
    "compile_hist(DR, '', 0, DR.x2)\n",
    "plot_hist(DR, '')"
   ]
  },
  {
   "cell_type": "code",
   "execution_count": 14,
   "id": "f43716ec-1836-4d11-a65a-01430a489b5a",
   "metadata": {
    "scrolled": true
   },
   "outputs": [
    {
     "name": "stdout",
     "output_type": "stream",
     "text": [
      "compiled unadjusted\n",
      "compiled adjusted\n",
      "compiled all ratios\n",
      "compiled iterative\n",
      "\n",
      "\n",
      "\n",
      "\n",
      "                            ------------------------------------------------------------------------------- All Stations Weighted by Station 0 Ratios: -------------------------------------------------------------------------------\n",
      "\n",
      "\n",
      "\n",
      "\n"
     ]
    },
    {
     "data": {
      "text/html": [
       "<table><tr><td><img src='DPhi Distance to Station 0.jpg'></td><td><img src='DPhi Net Adjustment by Station 0 Ratios for Station 0.jpg'></td><td><img src='DPhi Distance to Station 0 Weighted by Station 0 Ratios.jpg'></td></tr></table>"
      ],
      "text/plain": [
       "<IPython.core.display.HTML object>"
      ]
     },
     "metadata": {},
     "output_type": "display_data"
    },
    {
     "data": {
      "text/html": [
       "<table><tr><td><img src='DPhi Distance to Station 1.jpg'></td><td><img src='DPhi Net Adjustment by Station 0 Ratios for Station 1.jpg'></td><td><img src='DPhi Distance to Station 1 Weighted by Station 0 Ratios.jpg'></td></tr></table>"
      ],
      "text/plain": [
       "<IPython.core.display.HTML object>"
      ]
     },
     "metadata": {},
     "output_type": "display_data"
    },
    {
     "data": {
      "text/html": [
       "<table><tr><td><img src='DPhi Distance to Station 2.jpg'></td><td><img src='DPhi Net Adjustment by Station 0 Ratios for Station 2.jpg'></td><td><img src='DPhi Distance to Station 2 Weighted by Station 0 Ratios.jpg'></td></tr></table>"
      ],
      "text/plain": [
       "<IPython.core.display.HTML object>"
      ]
     },
     "metadata": {},
     "output_type": "display_data"
    },
    {
     "data": {
      "text/html": [
       "<table><tr><td><img src='DPhi Distance to Station 3.jpg'></td><td><img src='DPhi Net Adjustment by Station 0 Ratios for Station 3.jpg'></td><td><img src='DPhi Distance to Station 3 Weighted by Station 0 Ratios.jpg'></td></tr></table>"
      ],
      "text/plain": [
       "<IPython.core.display.HTML object>"
      ]
     },
     "metadata": {},
     "output_type": "display_data"
    },
    {
     "name": "stdout",
     "output_type": "stream",
     "text": [
      "\n",
      "\n",
      "\n",
      "\n",
      "                            ------------------------------------------------------------------------------- All Stations Weighted by Station 1 Ratios: -------------------------------------------------------------------------------\n",
      "\n",
      "\n",
      "\n",
      "\n"
     ]
    },
    {
     "data": {
      "text/html": [
       "<table><tr><td><img src='DPhi Distance to Station 0.jpg'></td><td><img src='DPhi Net Adjustment by Station 1 Ratios for Station 0.jpg'></td><td><img src='DPhi Distance to Station 0 Weighted by Station 1 Ratios.jpg'></td></tr></table>"
      ],
      "text/plain": [
       "<IPython.core.display.HTML object>"
      ]
     },
     "metadata": {},
     "output_type": "display_data"
    },
    {
     "data": {
      "text/html": [
       "<table><tr><td><img src='DPhi Distance to Station 1.jpg'></td><td><img src='DPhi Net Adjustment by Station 1 Ratios for Station 1.jpg'></td><td><img src='DPhi Distance to Station 1 Weighted by Station 1 Ratios.jpg'></td></tr></table>"
      ],
      "text/plain": [
       "<IPython.core.display.HTML object>"
      ]
     },
     "metadata": {},
     "output_type": "display_data"
    },
    {
     "data": {
      "text/html": [
       "<table><tr><td><img src='DPhi Distance to Station 2.jpg'></td><td><img src='DPhi Net Adjustment by Station 1 Ratios for Station 2.jpg'></td><td><img src='DPhi Distance to Station 2 Weighted by Station 1 Ratios.jpg'></td></tr></table>"
      ],
      "text/plain": [
       "<IPython.core.display.HTML object>"
      ]
     },
     "metadata": {},
     "output_type": "display_data"
    },
    {
     "data": {
      "text/html": [
       "<table><tr><td><img src='DPhi Distance to Station 3.jpg'></td><td><img src='DPhi Net Adjustment by Station 1 Ratios for Station 3.jpg'></td><td><img src='DPhi Distance to Station 3 Weighted by Station 1 Ratios.jpg'></td></tr></table>"
      ],
      "text/plain": [
       "<IPython.core.display.HTML object>"
      ]
     },
     "metadata": {},
     "output_type": "display_data"
    },
    {
     "name": "stdout",
     "output_type": "stream",
     "text": [
      "\n",
      "\n",
      "\n",
      "\n",
      "                            ------------------------------------------------------------------------------- All Stations Weighted by Station 2 Ratios: -------------------------------------------------------------------------------\n",
      "\n",
      "\n",
      "\n",
      "\n"
     ]
    },
    {
     "data": {
      "text/html": [
       "<table><tr><td><img src='DPhi Distance to Station 0.jpg'></td><td><img src='DPhi Net Adjustment by Station 2 Ratios for Station 0.jpg'></td><td><img src='DPhi Distance to Station 0 Weighted by Station 2 Ratios.jpg'></td></tr></table>"
      ],
      "text/plain": [
       "<IPython.core.display.HTML object>"
      ]
     },
     "metadata": {},
     "output_type": "display_data"
    },
    {
     "data": {
      "text/html": [
       "<table><tr><td><img src='DPhi Distance to Station 1.jpg'></td><td><img src='DPhi Net Adjustment by Station 2 Ratios for Station 1.jpg'></td><td><img src='DPhi Distance to Station 1 Weighted by Station 2 Ratios.jpg'></td></tr></table>"
      ],
      "text/plain": [
       "<IPython.core.display.HTML object>"
      ]
     },
     "metadata": {},
     "output_type": "display_data"
    },
    {
     "data": {
      "text/html": [
       "<table><tr><td><img src='DPhi Distance to Station 2.jpg'></td><td><img src='DPhi Net Adjustment by Station 2 Ratios for Station 2.jpg'></td><td><img src='DPhi Distance to Station 2 Weighted by Station 2 Ratios.jpg'></td></tr></table>"
      ],
      "text/plain": [
       "<IPython.core.display.HTML object>"
      ]
     },
     "metadata": {},
     "output_type": "display_data"
    },
    {
     "data": {
      "text/html": [
       "<table><tr><td><img src='DPhi Distance to Station 3.jpg'></td><td><img src='DPhi Net Adjustment by Station 2 Ratios for Station 3.jpg'></td><td><img src='DPhi Distance to Station 3 Weighted by Station 2 Ratios.jpg'></td></tr></table>"
      ],
      "text/plain": [
       "<IPython.core.display.HTML object>"
      ]
     },
     "metadata": {},
     "output_type": "display_data"
    },
    {
     "name": "stdout",
     "output_type": "stream",
     "text": [
      "\n",
      "\n",
      "\n",
      "\n",
      "                            ------------------------------------------------------------------------------- All Stations Weighted by Station 3 Ratios: -------------------------------------------------------------------------------\n",
      "\n",
      "\n",
      "\n",
      "\n"
     ]
    },
    {
     "data": {
      "text/html": [
       "<table><tr><td><img src='DPhi Distance to Station 0.jpg'></td><td><img src='DPhi Net Adjustment by Station 3 Ratios for Station 0.jpg'></td><td><img src='DPhi Distance to Station 0 Weighted by Station 3 Ratios.jpg'></td></tr></table>"
      ],
      "text/plain": [
       "<IPython.core.display.HTML object>"
      ]
     },
     "metadata": {},
     "output_type": "display_data"
    },
    {
     "data": {
      "text/html": [
       "<table><tr><td><img src='DPhi Distance to Station 1.jpg'></td><td><img src='DPhi Net Adjustment by Station 3 Ratios for Station 1.jpg'></td><td><img src='DPhi Distance to Station 1 Weighted by Station 3 Ratios.jpg'></td></tr></table>"
      ],
      "text/plain": [
       "<IPython.core.display.HTML object>"
      ]
     },
     "metadata": {},
     "output_type": "display_data"
    },
    {
     "data": {
      "text/html": [
       "<table><tr><td><img src='DPhi Distance to Station 2.jpg'></td><td><img src='DPhi Net Adjustment by Station 3 Ratios for Station 2.jpg'></td><td><img src='DPhi Distance to Station 2 Weighted by Station 3 Ratios.jpg'></td></tr></table>"
      ],
      "text/plain": [
       "<IPython.core.display.HTML object>"
      ]
     },
     "metadata": {},
     "output_type": "display_data"
    },
    {
     "data": {
      "text/html": [
       "<table><tr><td><img src='DPhi Distance to Station 3.jpg'></td><td><img src='DPhi Net Adjustment by Station 3 Ratios for Station 3.jpg'></td><td><img src='DPhi Distance to Station 3 Weighted by Station 3 Ratios.jpg'></td></tr></table>"
      ],
      "text/plain": [
       "<IPython.core.display.HTML object>"
      ]
     },
     "metadata": {},
     "output_type": "display_data"
    },
    {
     "name": "stdout",
     "output_type": "stream",
     "text": [
      "\n",
      "\n",
      "\n",
      "\n",
      "                            ------------------------------------------------------------------------------- All Stations Weighted by All Ratios: -------------------------------------------------------------------------------\n",
      "\n",
      "\n",
      "\n",
      "\n"
     ]
    },
    {
     "data": {
      "text/html": [
       "<table><tr><td><img src='DPhi Distance to Station 0.jpg'></td><td><img src='DPhi Net Adjustment by All Ratios for Station 0.jpg'></td><td><img src='DPhi Distance to Station 0 Weighted by All Ratios.jpg'></td></tr></table>"
      ],
      "text/plain": [
       "<IPython.core.display.HTML object>"
      ]
     },
     "metadata": {},
     "output_type": "display_data"
    },
    {
     "data": {
      "text/html": [
       "<table><tr><td><img src='DPhi Distance to Station 1.jpg'></td><td><img src='DPhi Net Adjustment by All Ratios for Station 1.jpg'></td><td><img src='DPhi Distance to Station 1 Weighted by All Ratios.jpg'></td></tr></table>"
      ],
      "text/plain": [
       "<IPython.core.display.HTML object>"
      ]
     },
     "metadata": {},
     "output_type": "display_data"
    },
    {
     "data": {
      "text/html": [
       "<table><tr><td><img src='DPhi Distance to Station 2.jpg'></td><td><img src='DPhi Net Adjustment by All Ratios for Station 2.jpg'></td><td><img src='DPhi Distance to Station 2 Weighted by All Ratios.jpg'></td></tr></table>"
      ],
      "text/plain": [
       "<IPython.core.display.HTML object>"
      ]
     },
     "metadata": {},
     "output_type": "display_data"
    },
    {
     "data": {
      "text/html": [
       "<table><tr><td><img src='DPhi Distance to Station 3.jpg'></td><td><img src='DPhi Net Adjustment by All Ratios for Station 3.jpg'></td><td><img src='DPhi Distance to Station 3 Weighted by All Ratios.jpg'></td></tr></table>"
      ],
      "text/plain": [
       "<IPython.core.display.HTML object>"
      ]
     },
     "metadata": {},
     "output_type": "display_data"
    },
    {
     "name": "stdout",
     "output_type": "stream",
     "text": [
      "\n",
      "\n",
      "\n",
      "\n",
      "                            ------------------------------------------------------------------------------- All Stations Weighted by Iterative Ratios 0: -------------------------------------------------------------------------------\n",
      "\n",
      "\n",
      "\n",
      "\n"
     ]
    },
    {
     "data": {
      "text/html": [
       "<table><tr><td><img src='DPhi Distance to Station 0.jpg'></td><td><img src='DPhi Net Adjustment by Iterative Ratios 0 for Station 0.jpg'></td><td><img src='DPhi Distance to Station 0 Weighted by Iterative Ratios 0.jpg'></td></tr></table>"
      ],
      "text/plain": [
       "<IPython.core.display.HTML object>"
      ]
     },
     "metadata": {},
     "output_type": "display_data"
    },
    {
     "data": {
      "text/html": [
       "<table><tr><td><img src='DPhi Distance to Station 1.jpg'></td><td><img src='DPhi Net Adjustment by Iterative Ratios 0 for Station 1.jpg'></td><td><img src='DPhi Distance to Station 1 Weighted by Iterative Ratios 0.jpg'></td></tr></table>"
      ],
      "text/plain": [
       "<IPython.core.display.HTML object>"
      ]
     },
     "metadata": {},
     "output_type": "display_data"
    },
    {
     "data": {
      "text/html": [
       "<table><tr><td><img src='DPhi Distance to Station 2.jpg'></td><td><img src='DPhi Net Adjustment by Iterative Ratios 0 for Station 2.jpg'></td><td><img src='DPhi Distance to Station 2 Weighted by Iterative Ratios 0.jpg'></td></tr></table>"
      ],
      "text/plain": [
       "<IPython.core.display.HTML object>"
      ]
     },
     "metadata": {},
     "output_type": "display_data"
    },
    {
     "data": {
      "text/html": [
       "<table><tr><td><img src='DPhi Distance to Station 3.jpg'></td><td><img src='DPhi Net Adjustment by Iterative Ratios 0 for Station 3.jpg'></td><td><img src='DPhi Distance to Station 3 Weighted by Iterative Ratios 0.jpg'></td></tr></table>"
      ],
      "text/plain": [
       "<IPython.core.display.HTML object>"
      ]
     },
     "metadata": {},
     "output_type": "display_data"
    },
    {
     "name": "stdout",
     "output_type": "stream",
     "text": [
      "\n",
      "\n",
      "\n",
      "\n",
      "                            ------------------------------------------------------------------------------- All Stations Weighted by Iterative Ratios 1: -------------------------------------------------------------------------------\n",
      "\n",
      "\n",
      "\n",
      "\n"
     ]
    },
    {
     "data": {
      "text/html": [
       "<table><tr><td><img src='DPhi Distance to Station 0.jpg'></td><td><img src='DPhi Net Adjustment by Iterative Ratios 1 for Station 0.jpg'></td><td><img src='DPhi Distance to Station 0 Weighted by Iterative Ratios 1.jpg'></td></tr></table>"
      ],
      "text/plain": [
       "<IPython.core.display.HTML object>"
      ]
     },
     "metadata": {},
     "output_type": "display_data"
    },
    {
     "data": {
      "text/html": [
       "<table><tr><td><img src='DPhi Distance to Station 1.jpg'></td><td><img src='DPhi Net Adjustment by Iterative Ratios 1 for Station 1.jpg'></td><td><img src='DPhi Distance to Station 1 Weighted by Iterative Ratios 1.jpg'></td></tr></table>"
      ],
      "text/plain": [
       "<IPython.core.display.HTML object>"
      ]
     },
     "metadata": {},
     "output_type": "display_data"
    },
    {
     "data": {
      "text/html": [
       "<table><tr><td><img src='DPhi Distance to Station 2.jpg'></td><td><img src='DPhi Net Adjustment by Iterative Ratios 1 for Station 2.jpg'></td><td><img src='DPhi Distance to Station 2 Weighted by Iterative Ratios 1.jpg'></td></tr></table>"
      ],
      "text/plain": [
       "<IPython.core.display.HTML object>"
      ]
     },
     "metadata": {},
     "output_type": "display_data"
    },
    {
     "data": {
      "text/html": [
       "<table><tr><td><img src='DPhi Distance to Station 3.jpg'></td><td><img src='DPhi Net Adjustment by Iterative Ratios 1 for Station 3.jpg'></td><td><img src='DPhi Distance to Station 3 Weighted by Iterative Ratios 1.jpg'></td></tr></table>"
      ],
      "text/plain": [
       "<IPython.core.display.HTML object>"
      ]
     },
     "metadata": {},
     "output_type": "display_data"
    },
    {
     "name": "stdout",
     "output_type": "stream",
     "text": [
      "\n",
      "\n",
      "\n",
      "\n",
      "                            ------------------------------------------------------------------------------- All Stations Weighted by Iterative Ratios 2: -------------------------------------------------------------------------------\n",
      "\n",
      "\n",
      "\n",
      "\n"
     ]
    },
    {
     "data": {
      "text/html": [
       "<table><tr><td><img src='DPhi Distance to Station 0.jpg'></td><td><img src='DPhi Net Adjustment by Iterative Ratios 2 for Station 0.jpg'></td><td><img src='DPhi Distance to Station 0 Weighted by Iterative Ratios 2.jpg'></td></tr></table>"
      ],
      "text/plain": [
       "<IPython.core.display.HTML object>"
      ]
     },
     "metadata": {},
     "output_type": "display_data"
    },
    {
     "data": {
      "text/html": [
       "<table><tr><td><img src='DPhi Distance to Station 1.jpg'></td><td><img src='DPhi Net Adjustment by Iterative Ratios 2 for Station 1.jpg'></td><td><img src='DPhi Distance to Station 1 Weighted by Iterative Ratios 2.jpg'></td></tr></table>"
      ],
      "text/plain": [
       "<IPython.core.display.HTML object>"
      ]
     },
     "metadata": {},
     "output_type": "display_data"
    },
    {
     "data": {
      "text/html": [
       "<table><tr><td><img src='DPhi Distance to Station 2.jpg'></td><td><img src='DPhi Net Adjustment by Iterative Ratios 2 for Station 2.jpg'></td><td><img src='DPhi Distance to Station 2 Weighted by Iterative Ratios 2.jpg'></td></tr></table>"
      ],
      "text/plain": [
       "<IPython.core.display.HTML object>"
      ]
     },
     "metadata": {},
     "output_type": "display_data"
    },
    {
     "data": {
      "text/html": [
       "<table><tr><td><img src='DPhi Distance to Station 3.jpg'></td><td><img src='DPhi Net Adjustment by Iterative Ratios 2 for Station 3.jpg'></td><td><img src='DPhi Distance to Station 3 Weighted by Iterative Ratios 2.jpg'></td></tr></table>"
      ],
      "text/plain": [
       "<IPython.core.display.HTML object>"
      ]
     },
     "metadata": {},
     "output_type": "display_data"
    },
    {
     "name": "stdout",
     "output_type": "stream",
     "text": [
      "\n",
      "\n",
      "\n",
      "\n",
      "                            ------------------------------------------------------------------------------- All Stations Weighted by Iterative Ratios 3: -------------------------------------------------------------------------------\n",
      "\n",
      "\n",
      "\n",
      "\n"
     ]
    },
    {
     "data": {
      "text/html": [
       "<table><tr><td><img src='DPhi Distance to Station 0.jpg'></td><td><img src='DPhi Net Adjustment by Iterative Ratios 3 for Station 0.jpg'></td><td><img src='DPhi Distance to Station 0 Weighted by Iterative Ratios 3.jpg'></td></tr></table>"
      ],
      "text/plain": [
       "<IPython.core.display.HTML object>"
      ]
     },
     "metadata": {},
     "output_type": "display_data"
    },
    {
     "data": {
      "text/html": [
       "<table><tr><td><img src='DPhi Distance to Station 1.jpg'></td><td><img src='DPhi Net Adjustment by Iterative Ratios 3 for Station 1.jpg'></td><td><img src='DPhi Distance to Station 1 Weighted by Iterative Ratios 3.jpg'></td></tr></table>"
      ],
      "text/plain": [
       "<IPython.core.display.HTML object>"
      ]
     },
     "metadata": {},
     "output_type": "display_data"
    },
    {
     "data": {
      "text/html": [
       "<table><tr><td><img src='DPhi Distance to Station 2.jpg'></td><td><img src='DPhi Net Adjustment by Iterative Ratios 3 for Station 2.jpg'></td><td><img src='DPhi Distance to Station 2 Weighted by Iterative Ratios 3.jpg'></td></tr></table>"
      ],
      "text/plain": [
       "<IPython.core.display.HTML object>"
      ]
     },
     "metadata": {},
     "output_type": "display_data"
    },
    {
     "data": {
      "text/html": [
       "<table><tr><td><img src='DPhi Distance to Station 3.jpg'></td><td><img src='DPhi Net Adjustment by Iterative Ratios 3 for Station 3.jpg'></td><td><img src='DPhi Distance to Station 3 Weighted by Iterative Ratios 3.jpg'></td></tr></table>"
      ],
      "text/plain": [
       "<IPython.core.display.HTML object>"
      ]
     },
     "metadata": {},
     "output_type": "display_data"
    }
   ],
   "source": [
    "compile_hist(DPhi, '', 0 , 0.35)\n",
    "plot_hist(DPhi, '')"
   ]
  },
  {
   "cell_type": "code",
   "execution_count": 15,
   "id": "1d7fef04-895f-4f85-8bbd-92c5d60daa61",
   "metadata": {
    "scrolled": true
   },
   "outputs": [
    {
     "name": "stdout",
     "output_type": "stream",
     "text": [
      "compiled unadjusted\n",
      "compiled adjusted\n",
      "compiled all ratios\n",
      "compiled iterative\n",
      "\n",
      "\n",
      "\n",
      "\n",
      "                            ------------------------------------------------------------------------------- All Stations Weighted by Station 0 Ratios: -------------------------------------------------------------------------------\n",
      "\n",
      "\n",
      "\n",
      "\n"
     ]
    },
    {
     "data": {
      "text/html": [
       "<table><tr><td><img src='DEta Distance to Station 0.jpg'></td><td><img src='DEta Net Adjustment by Station 0 Ratios for Station 0.jpg'></td><td><img src='DEta Distance to Station 0 Weighted by Station 0 Ratios.jpg'></td></tr></table>"
      ],
      "text/plain": [
       "<IPython.core.display.HTML object>"
      ]
     },
     "metadata": {},
     "output_type": "display_data"
    },
    {
     "data": {
      "text/html": [
       "<table><tr><td><img src='DEta Distance to Station 1.jpg'></td><td><img src='DEta Net Adjustment by Station 0 Ratios for Station 1.jpg'></td><td><img src='DEta Distance to Station 1 Weighted by Station 0 Ratios.jpg'></td></tr></table>"
      ],
      "text/plain": [
       "<IPython.core.display.HTML object>"
      ]
     },
     "metadata": {},
     "output_type": "display_data"
    },
    {
     "data": {
      "text/html": [
       "<table><tr><td><img src='DEta Distance to Station 2.jpg'></td><td><img src='DEta Net Adjustment by Station 0 Ratios for Station 2.jpg'></td><td><img src='DEta Distance to Station 2 Weighted by Station 0 Ratios.jpg'></td></tr></table>"
      ],
      "text/plain": [
       "<IPython.core.display.HTML object>"
      ]
     },
     "metadata": {},
     "output_type": "display_data"
    },
    {
     "data": {
      "text/html": [
       "<table><tr><td><img src='DEta Distance to Station 3.jpg'></td><td><img src='DEta Net Adjustment by Station 0 Ratios for Station 3.jpg'></td><td><img src='DEta Distance to Station 3 Weighted by Station 0 Ratios.jpg'></td></tr></table>"
      ],
      "text/plain": [
       "<IPython.core.display.HTML object>"
      ]
     },
     "metadata": {},
     "output_type": "display_data"
    },
    {
     "name": "stdout",
     "output_type": "stream",
     "text": [
      "\n",
      "\n",
      "\n",
      "\n",
      "                            ------------------------------------------------------------------------------- All Stations Weighted by Station 1 Ratios: -------------------------------------------------------------------------------\n",
      "\n",
      "\n",
      "\n",
      "\n"
     ]
    },
    {
     "data": {
      "text/html": [
       "<table><tr><td><img src='DEta Distance to Station 0.jpg'></td><td><img src='DEta Net Adjustment by Station 1 Ratios for Station 0.jpg'></td><td><img src='DEta Distance to Station 0 Weighted by Station 1 Ratios.jpg'></td></tr></table>"
      ],
      "text/plain": [
       "<IPython.core.display.HTML object>"
      ]
     },
     "metadata": {},
     "output_type": "display_data"
    },
    {
     "data": {
      "text/html": [
       "<table><tr><td><img src='DEta Distance to Station 1.jpg'></td><td><img src='DEta Net Adjustment by Station 1 Ratios for Station 1.jpg'></td><td><img src='DEta Distance to Station 1 Weighted by Station 1 Ratios.jpg'></td></tr></table>"
      ],
      "text/plain": [
       "<IPython.core.display.HTML object>"
      ]
     },
     "metadata": {},
     "output_type": "display_data"
    },
    {
     "data": {
      "text/html": [
       "<table><tr><td><img src='DEta Distance to Station 2.jpg'></td><td><img src='DEta Net Adjustment by Station 1 Ratios for Station 2.jpg'></td><td><img src='DEta Distance to Station 2 Weighted by Station 1 Ratios.jpg'></td></tr></table>"
      ],
      "text/plain": [
       "<IPython.core.display.HTML object>"
      ]
     },
     "metadata": {},
     "output_type": "display_data"
    },
    {
     "data": {
      "text/html": [
       "<table><tr><td><img src='DEta Distance to Station 3.jpg'></td><td><img src='DEta Net Adjustment by Station 1 Ratios for Station 3.jpg'></td><td><img src='DEta Distance to Station 3 Weighted by Station 1 Ratios.jpg'></td></tr></table>"
      ],
      "text/plain": [
       "<IPython.core.display.HTML object>"
      ]
     },
     "metadata": {},
     "output_type": "display_data"
    },
    {
     "name": "stdout",
     "output_type": "stream",
     "text": [
      "\n",
      "\n",
      "\n",
      "\n",
      "                            ------------------------------------------------------------------------------- All Stations Weighted by Station 2 Ratios: -------------------------------------------------------------------------------\n",
      "\n",
      "\n",
      "\n",
      "\n"
     ]
    },
    {
     "data": {
      "text/html": [
       "<table><tr><td><img src='DEta Distance to Station 0.jpg'></td><td><img src='DEta Net Adjustment by Station 2 Ratios for Station 0.jpg'></td><td><img src='DEta Distance to Station 0 Weighted by Station 2 Ratios.jpg'></td></tr></table>"
      ],
      "text/plain": [
       "<IPython.core.display.HTML object>"
      ]
     },
     "metadata": {},
     "output_type": "display_data"
    },
    {
     "data": {
      "text/html": [
       "<table><tr><td><img src='DEta Distance to Station 1.jpg'></td><td><img src='DEta Net Adjustment by Station 2 Ratios for Station 1.jpg'></td><td><img src='DEta Distance to Station 1 Weighted by Station 2 Ratios.jpg'></td></tr></table>"
      ],
      "text/plain": [
       "<IPython.core.display.HTML object>"
      ]
     },
     "metadata": {},
     "output_type": "display_data"
    },
    {
     "data": {
      "text/html": [
       "<table><tr><td><img src='DEta Distance to Station 2.jpg'></td><td><img src='DEta Net Adjustment by Station 2 Ratios for Station 2.jpg'></td><td><img src='DEta Distance to Station 2 Weighted by Station 2 Ratios.jpg'></td></tr></table>"
      ],
      "text/plain": [
       "<IPython.core.display.HTML object>"
      ]
     },
     "metadata": {},
     "output_type": "display_data"
    },
    {
     "data": {
      "text/html": [
       "<table><tr><td><img src='DEta Distance to Station 3.jpg'></td><td><img src='DEta Net Adjustment by Station 2 Ratios for Station 3.jpg'></td><td><img src='DEta Distance to Station 3 Weighted by Station 2 Ratios.jpg'></td></tr></table>"
      ],
      "text/plain": [
       "<IPython.core.display.HTML object>"
      ]
     },
     "metadata": {},
     "output_type": "display_data"
    },
    {
     "name": "stdout",
     "output_type": "stream",
     "text": [
      "\n",
      "\n",
      "\n",
      "\n",
      "                            ------------------------------------------------------------------------------- All Stations Weighted by Station 3 Ratios: -------------------------------------------------------------------------------\n",
      "\n",
      "\n",
      "\n",
      "\n"
     ]
    },
    {
     "data": {
      "text/html": [
       "<table><tr><td><img src='DEta Distance to Station 0.jpg'></td><td><img src='DEta Net Adjustment by Station 3 Ratios for Station 0.jpg'></td><td><img src='DEta Distance to Station 0 Weighted by Station 3 Ratios.jpg'></td></tr></table>"
      ],
      "text/plain": [
       "<IPython.core.display.HTML object>"
      ]
     },
     "metadata": {},
     "output_type": "display_data"
    },
    {
     "data": {
      "text/html": [
       "<table><tr><td><img src='DEta Distance to Station 1.jpg'></td><td><img src='DEta Net Adjustment by Station 3 Ratios for Station 1.jpg'></td><td><img src='DEta Distance to Station 1 Weighted by Station 3 Ratios.jpg'></td></tr></table>"
      ],
      "text/plain": [
       "<IPython.core.display.HTML object>"
      ]
     },
     "metadata": {},
     "output_type": "display_data"
    },
    {
     "data": {
      "text/html": [
       "<table><tr><td><img src='DEta Distance to Station 2.jpg'></td><td><img src='DEta Net Adjustment by Station 3 Ratios for Station 2.jpg'></td><td><img src='DEta Distance to Station 2 Weighted by Station 3 Ratios.jpg'></td></tr></table>"
      ],
      "text/plain": [
       "<IPython.core.display.HTML object>"
      ]
     },
     "metadata": {},
     "output_type": "display_data"
    },
    {
     "data": {
      "text/html": [
       "<table><tr><td><img src='DEta Distance to Station 3.jpg'></td><td><img src='DEta Net Adjustment by Station 3 Ratios for Station 3.jpg'></td><td><img src='DEta Distance to Station 3 Weighted by Station 3 Ratios.jpg'></td></tr></table>"
      ],
      "text/plain": [
       "<IPython.core.display.HTML object>"
      ]
     },
     "metadata": {},
     "output_type": "display_data"
    },
    {
     "name": "stdout",
     "output_type": "stream",
     "text": [
      "\n",
      "\n",
      "\n",
      "\n",
      "                            ------------------------------------------------------------------------------- All Stations Weighted by All Ratios: -------------------------------------------------------------------------------\n",
      "\n",
      "\n",
      "\n",
      "\n"
     ]
    },
    {
     "data": {
      "text/html": [
       "<table><tr><td><img src='DEta Distance to Station 0.jpg'></td><td><img src='DEta Net Adjustment by All Ratios for Station 0.jpg'></td><td><img src='DEta Distance to Station 0 Weighted by All Ratios.jpg'></td></tr></table>"
      ],
      "text/plain": [
       "<IPython.core.display.HTML object>"
      ]
     },
     "metadata": {},
     "output_type": "display_data"
    },
    {
     "data": {
      "text/html": [
       "<table><tr><td><img src='DEta Distance to Station 1.jpg'></td><td><img src='DEta Net Adjustment by All Ratios for Station 1.jpg'></td><td><img src='DEta Distance to Station 1 Weighted by All Ratios.jpg'></td></tr></table>"
      ],
      "text/plain": [
       "<IPython.core.display.HTML object>"
      ]
     },
     "metadata": {},
     "output_type": "display_data"
    },
    {
     "data": {
      "text/html": [
       "<table><tr><td><img src='DEta Distance to Station 2.jpg'></td><td><img src='DEta Net Adjustment by All Ratios for Station 2.jpg'></td><td><img src='DEta Distance to Station 2 Weighted by All Ratios.jpg'></td></tr></table>"
      ],
      "text/plain": [
       "<IPython.core.display.HTML object>"
      ]
     },
     "metadata": {},
     "output_type": "display_data"
    },
    {
     "data": {
      "text/html": [
       "<table><tr><td><img src='DEta Distance to Station 3.jpg'></td><td><img src='DEta Net Adjustment by All Ratios for Station 3.jpg'></td><td><img src='DEta Distance to Station 3 Weighted by All Ratios.jpg'></td></tr></table>"
      ],
      "text/plain": [
       "<IPython.core.display.HTML object>"
      ]
     },
     "metadata": {},
     "output_type": "display_data"
    },
    {
     "name": "stdout",
     "output_type": "stream",
     "text": [
      "\n",
      "\n",
      "\n",
      "\n",
      "                            ------------------------------------------------------------------------------- All Stations Weighted by Iterative Ratios 0: -------------------------------------------------------------------------------\n",
      "\n",
      "\n",
      "\n",
      "\n"
     ]
    },
    {
     "data": {
      "text/html": [
       "<table><tr><td><img src='DEta Distance to Station 0.jpg'></td><td><img src='DEta Net Adjustment by Iterative Ratios 0 for Station 0.jpg'></td><td><img src='DEta Distance to Station 0 Weighted by Iterative Ratios 0.jpg'></td></tr></table>"
      ],
      "text/plain": [
       "<IPython.core.display.HTML object>"
      ]
     },
     "metadata": {},
     "output_type": "display_data"
    },
    {
     "data": {
      "text/html": [
       "<table><tr><td><img src='DEta Distance to Station 1.jpg'></td><td><img src='DEta Net Adjustment by Iterative Ratios 0 for Station 1.jpg'></td><td><img src='DEta Distance to Station 1 Weighted by Iterative Ratios 0.jpg'></td></tr></table>"
      ],
      "text/plain": [
       "<IPython.core.display.HTML object>"
      ]
     },
     "metadata": {},
     "output_type": "display_data"
    },
    {
     "data": {
      "text/html": [
       "<table><tr><td><img src='DEta Distance to Station 2.jpg'></td><td><img src='DEta Net Adjustment by Iterative Ratios 0 for Station 2.jpg'></td><td><img src='DEta Distance to Station 2 Weighted by Iterative Ratios 0.jpg'></td></tr></table>"
      ],
      "text/plain": [
       "<IPython.core.display.HTML object>"
      ]
     },
     "metadata": {},
     "output_type": "display_data"
    },
    {
     "data": {
      "text/html": [
       "<table><tr><td><img src='DEta Distance to Station 3.jpg'></td><td><img src='DEta Net Adjustment by Iterative Ratios 0 for Station 3.jpg'></td><td><img src='DEta Distance to Station 3 Weighted by Iterative Ratios 0.jpg'></td></tr></table>"
      ],
      "text/plain": [
       "<IPython.core.display.HTML object>"
      ]
     },
     "metadata": {},
     "output_type": "display_data"
    },
    {
     "name": "stdout",
     "output_type": "stream",
     "text": [
      "\n",
      "\n",
      "\n",
      "\n",
      "                            ------------------------------------------------------------------------------- All Stations Weighted by Iterative Ratios 1: -------------------------------------------------------------------------------\n",
      "\n",
      "\n",
      "\n",
      "\n"
     ]
    },
    {
     "data": {
      "text/html": [
       "<table><tr><td><img src='DEta Distance to Station 0.jpg'></td><td><img src='DEta Net Adjustment by Iterative Ratios 1 for Station 0.jpg'></td><td><img src='DEta Distance to Station 0 Weighted by Iterative Ratios 1.jpg'></td></tr></table>"
      ],
      "text/plain": [
       "<IPython.core.display.HTML object>"
      ]
     },
     "metadata": {},
     "output_type": "display_data"
    },
    {
     "data": {
      "text/html": [
       "<table><tr><td><img src='DEta Distance to Station 1.jpg'></td><td><img src='DEta Net Adjustment by Iterative Ratios 1 for Station 1.jpg'></td><td><img src='DEta Distance to Station 1 Weighted by Iterative Ratios 1.jpg'></td></tr></table>"
      ],
      "text/plain": [
       "<IPython.core.display.HTML object>"
      ]
     },
     "metadata": {},
     "output_type": "display_data"
    },
    {
     "data": {
      "text/html": [
       "<table><tr><td><img src='DEta Distance to Station 2.jpg'></td><td><img src='DEta Net Adjustment by Iterative Ratios 1 for Station 2.jpg'></td><td><img src='DEta Distance to Station 2 Weighted by Iterative Ratios 1.jpg'></td></tr></table>"
      ],
      "text/plain": [
       "<IPython.core.display.HTML object>"
      ]
     },
     "metadata": {},
     "output_type": "display_data"
    },
    {
     "data": {
      "text/html": [
       "<table><tr><td><img src='DEta Distance to Station 3.jpg'></td><td><img src='DEta Net Adjustment by Iterative Ratios 1 for Station 3.jpg'></td><td><img src='DEta Distance to Station 3 Weighted by Iterative Ratios 1.jpg'></td></tr></table>"
      ],
      "text/plain": [
       "<IPython.core.display.HTML object>"
      ]
     },
     "metadata": {},
     "output_type": "display_data"
    },
    {
     "name": "stdout",
     "output_type": "stream",
     "text": [
      "\n",
      "\n",
      "\n",
      "\n",
      "                            ------------------------------------------------------------------------------- All Stations Weighted by Iterative Ratios 2: -------------------------------------------------------------------------------\n",
      "\n",
      "\n",
      "\n",
      "\n"
     ]
    },
    {
     "data": {
      "text/html": [
       "<table><tr><td><img src='DEta Distance to Station 0.jpg'></td><td><img src='DEta Net Adjustment by Iterative Ratios 2 for Station 0.jpg'></td><td><img src='DEta Distance to Station 0 Weighted by Iterative Ratios 2.jpg'></td></tr></table>"
      ],
      "text/plain": [
       "<IPython.core.display.HTML object>"
      ]
     },
     "metadata": {},
     "output_type": "display_data"
    },
    {
     "data": {
      "text/html": [
       "<table><tr><td><img src='DEta Distance to Station 1.jpg'></td><td><img src='DEta Net Adjustment by Iterative Ratios 2 for Station 1.jpg'></td><td><img src='DEta Distance to Station 1 Weighted by Iterative Ratios 2.jpg'></td></tr></table>"
      ],
      "text/plain": [
       "<IPython.core.display.HTML object>"
      ]
     },
     "metadata": {},
     "output_type": "display_data"
    },
    {
     "data": {
      "text/html": [
       "<table><tr><td><img src='DEta Distance to Station 2.jpg'></td><td><img src='DEta Net Adjustment by Iterative Ratios 2 for Station 2.jpg'></td><td><img src='DEta Distance to Station 2 Weighted by Iterative Ratios 2.jpg'></td></tr></table>"
      ],
      "text/plain": [
       "<IPython.core.display.HTML object>"
      ]
     },
     "metadata": {},
     "output_type": "display_data"
    },
    {
     "data": {
      "text/html": [
       "<table><tr><td><img src='DEta Distance to Station 3.jpg'></td><td><img src='DEta Net Adjustment by Iterative Ratios 2 for Station 3.jpg'></td><td><img src='DEta Distance to Station 3 Weighted by Iterative Ratios 2.jpg'></td></tr></table>"
      ],
      "text/plain": [
       "<IPython.core.display.HTML object>"
      ]
     },
     "metadata": {},
     "output_type": "display_data"
    },
    {
     "name": "stdout",
     "output_type": "stream",
     "text": [
      "\n",
      "\n",
      "\n",
      "\n",
      "                            ------------------------------------------------------------------------------- All Stations Weighted by Iterative Ratios 3: -------------------------------------------------------------------------------\n",
      "\n",
      "\n",
      "\n",
      "\n"
     ]
    },
    {
     "data": {
      "text/html": [
       "<table><tr><td><img src='DEta Distance to Station 0.jpg'></td><td><img src='DEta Net Adjustment by Iterative Ratios 3 for Station 0.jpg'></td><td><img src='DEta Distance to Station 0 Weighted by Iterative Ratios 3.jpg'></td></tr></table>"
      ],
      "text/plain": [
       "<IPython.core.display.HTML object>"
      ]
     },
     "metadata": {},
     "output_type": "display_data"
    },
    {
     "data": {
      "text/html": [
       "<table><tr><td><img src='DEta Distance to Station 1.jpg'></td><td><img src='DEta Net Adjustment by Iterative Ratios 3 for Station 1.jpg'></td><td><img src='DEta Distance to Station 1 Weighted by Iterative Ratios 3.jpg'></td></tr></table>"
      ],
      "text/plain": [
       "<IPython.core.display.HTML object>"
      ]
     },
     "metadata": {},
     "output_type": "display_data"
    },
    {
     "data": {
      "text/html": [
       "<table><tr><td><img src='DEta Distance to Station 2.jpg'></td><td><img src='DEta Net Adjustment by Iterative Ratios 3 for Station 2.jpg'></td><td><img src='DEta Distance to Station 2 Weighted by Iterative Ratios 3.jpg'></td></tr></table>"
      ],
      "text/plain": [
       "<IPython.core.display.HTML object>"
      ]
     },
     "metadata": {},
     "output_type": "display_data"
    },
    {
     "data": {
      "text/html": [
       "<table><tr><td><img src='DEta Distance to Station 3.jpg'></td><td><img src='DEta Net Adjustment by Iterative Ratios 3 for Station 3.jpg'></td><td><img src='DEta Distance to Station 3 Weighted by Iterative Ratios 3.jpg'></td></tr></table>"
      ],
      "text/plain": [
       "<IPython.core.display.HTML object>"
      ]
     },
     "metadata": {},
     "output_type": "display_data"
    }
   ],
   "source": [
    "compile_hist(DEta, '', 0, 0.35)\n",
    "plot_hist(DEta, '')"
   ]
  },
  {
   "cell_type": "code",
   "execution_count": 16,
   "id": "02ee3fab-9dbb-4b4b-83bf-ebf59d1ec9de",
   "metadata": {
    "scrolled": true
   },
   "outputs": [
    {
     "name": "stdout",
     "output_type": "stream",
     "text": [
      "compiled unadjusted\n",
      "compiled adjusted\n",
      "compiled all ratios\n",
      "compiled iterative\n",
      "compiled unadjusted\n",
      "compiled adjusted\n",
      "compiled all ratios\n",
      "compiled iterative\n"
     ]
    },
    {
     "data": {
      "text/html": [
       "<table><tr><td><img src='(+) DPhi Distance to Station 0.jpg'></td><td><img src='(-) DPhi Distance to Station 0.jpg'></td></tr></table>"
      ],
      "text/plain": [
       "<IPython.core.display.HTML object>"
      ]
     },
     "metadata": {},
     "output_type": "display_data"
    },
    {
     "data": {
      "text/html": [
       "<table><tr><td><img src='(+) DPhi Distance to Station 1.jpg'></td><td><img src='(-) DPhi Distance to Station 1.jpg'></td></tr></table>"
      ],
      "text/plain": [
       "<IPython.core.display.HTML object>"
      ]
     },
     "metadata": {},
     "output_type": "display_data"
    },
    {
     "data": {
      "text/html": [
       "<table><tr><td><img src='(+) DPhi Distance to Station 2.jpg'></td><td><img src='(-) DPhi Distance to Station 2.jpg'></td></tr></table>"
      ],
      "text/plain": [
       "<IPython.core.display.HTML object>"
      ]
     },
     "metadata": {},
     "output_type": "display_data"
    },
    {
     "data": {
      "text/html": [
       "<table><tr><td><img src='(+) DPhi Distance to Station 3.jpg'></td><td><img src='(-) DPhi Distance to Station 3.jpg'></td></tr></table>"
      ],
      "text/plain": [
       "<IPython.core.display.HTML object>"
      ]
     },
     "metadata": {},
     "output_type": "display_data"
    }
   ],
   "source": [
    "compile_hist(DPhi, '+', -0.35, 0.35)\n",
    "compile_hist(DPhi, '-', -0.35, 0.35)\n",
    "plot_charge_hist(DPhi)"
   ]
  },
  {
   "cell_type": "code",
   "execution_count": 17,
   "id": "7acef375-e995-4cf0-b089-80e322f698d5",
   "metadata": {},
   "outputs": [
    {
     "data": {
      "image/png": "[encoded data removed]",
      "text/plain": [
       "<Figure size 432x288 with 1 Axes>"
      ]
     },
     "metadata": {
      "needs_background": "light"
     },
     "output_type": "display_data"
    },
    {
     "data": {
      "image/png": "[encoded data removed]",
      "text/plain": [
       "<Figure size 432x288 with 1 Axes>"
      ]
     },
     "metadata": {
      "needs_background": "light"
     },
     "output_type": "display_data"
    },
    {
     "data": {
      "image/png": "[encoded data removed]",
      "text/plain": [
       "<Figure size 432x288 with 1 Axes>"
      ]
     },
     "metadata": {
      "needs_background": "light"
     },
     "output_type": "display_data"
    }
   ],
   "source": [
    "# Calculate projected motion of muon as calculated dphi and trajectory as it passes each station\n",
    "\n",
    "columns = ['charge', 'pt', 'dphi_sol']\n",
    "for j in range(4): columns.append('dphi_S'+str(j))\n",
    "columns.append('traj_sol')\n",
    "for j in range(4): columns.append('traj_S'+str(j))\n",
    "\n",
    "projData = pd.DataFrame(columns=columns)\n",
    "proj_event= {column: None for column in projData.columns} # make dictionary to add event attributes\n",
    "\n",
    "\n",
    "R_S = []\n",
    "R_sol = (3.55)  # radius of solenoid\n",
    "R_S.append(4.35)  # radius of station 0\n",
    "R_S.append(5.15)\n",
    "R_S.append(6.20)\n",
    "R_S.append(7.25)\n",
    "\n",
    "m = 0.1057\n",
    "B0 = 4\n",
    "B1 = -1\n",
    "\n",
    "\n",
    "Charges = ['+','-']\n",
    "for charge in Charges:\n",
    "    if charge == '+':\n",
    "        q = 1\n",
    "        dataEvents = Data.Events.loc[data_pos_charge_mask].copy()\n",
    "        #mcEvents = MC.Events.loc[mc_pos_charge_mask].copy()\n",
    "    elif charge == '-':\n",
    "        q = -1\n",
    "        dataEvents = Data.Events.loc[data_neg_charge_mask].copy()\n",
    "        #mcEvents = MC.Events.loc[mc_neg_charge_mask].copy()\n",
    "    \n",
    "    for i in range(100): \n",
    "        pt_mask = (0.5*i <= dataEvents['pt']) & (dataEvents['pt'] <=  0.5*(i+1))\n",
    "        pt_df = dataEvents.loc[pt_mask, ['pt']]\n",
    "        pt = pt_df['pt'].mean()\n",
    "        \n",
    "        if pd.notnull(pt):\n",
    "    \n",
    "            R0 = 3.3*pt/(q*B0) # gyroradius\n",
    "            R1 = 3.3*pt/(q*B1)\n",
    "            \n",
    "            R_stuff = (R0-R1)*R_sol**2/R0 # this factor pops up in mathematica simplification a lot\n",
    "            D1 = math.sqrt(R1**2+R_stuff)\n",
    "        \n",
    "            dphi_sol = math.asin(R_sol/(2*R0))    # dphi as muon passes solenoid\n",
    "            traj_sol = 2*dphi_sol                 # trajectory as muon passes solenoid\n",
    "            x = (R0-R1)*math.sin(2*dphi_sol)      # x-coordinate of center of R1 circle\n",
    "            y = R0+(R1-R0)*math.cos(2*dphi_sol)   # y-coordinate of center of R1 circle\n",
    "\n",
    "            proj_event['pt'] = pt\n",
    "            proj_event['charge'] = charge\n",
    "            proj_event['dphi_sol'] = dphi_sol\n",
    "            proj_event['traj_sol'] = traj_sol\n",
    "        \n",
    "            for j in range(4):\n",
    "                dphi = ( q*math.acos( (R_stuff + R_S[j]**2) / (2*D1*R_S[j]) ) +\n",
    "                           math.atan( 1/(R0-R1)*(R0+(R1-R0)*math.cos(2*dphi_sol))*csc(2*dphi_sol) ))\n",
    "                traj =  math.atan( (R_S[j]*math.sin(dphi)-y) / (R_S[j]*math.cos(dphi)-x) ) + q*math.pi/2\n",
    "                \n",
    "                #print('projected dphi for Station_'+str(j)+' ('+charge+') charge bin '+str(i)+' pt_mean='+str(pt)+': '+str(dphi))\n",
    "                \n",
    "                proj_event['dphi_S'+str(j)] = dphi\n",
    "                proj_event['traj_S'+str(j)] = traj\n",
    "            projData.loc[len(projData)] = proj_event\n",
    "\n",
    "#print(projData)\n",
    "\n",
    "pos_mask = projData['charge'] == '+'\n",
    "neg_mask = projData['charge'] == '-'\n",
    "\n",
    "cmap = plt.get_cmap('plasma', 5)  # no. of colors = 5\n",
    "\n",
    "Attributes = ['dphi','traj']\n",
    "for attr in Attributes:\n",
    "    for charge in Charges:\n",
    "        if charge == '+': proj_mask = pos_mask \n",
    "        elif charge == '-': proj_mask = neg_mask\n",
    "        plt.plot(projData.loc[proj_mask,'pt'], projData.loc[proj_mask,attr+'_sol'], color=cmap(4), label=attr+'_sol ('+charge+')')\n",
    "        for j in range(4): \n",
    "            plt.plot(projData.loc[proj_mask,'pt'],projData.loc[proj_mask,attr+'_S'+str(j)], color=cmap(j), label=attr+'_S'+str(j)+'('+charge+')')\n",
    "\n",
    "    plt.axhline(y=0, color='k')\n",
    "    plt.xlabel('pt')\n",
    "    plt.ylabel(attr)\n",
    "    plt.title('pt vs. '+attr)\n",
    "    plt.legend(bbox_to_anchor=(1.04, 1), loc=\"upper left\")    \n",
    "    plt.show()\n",
    "\n",
    "bins = 10\n",
    "\n",
    "for charge in Charges:\n",
    "    if charge == '+': \n",
    "        proj_mask = pos_mask \n",
    "        dataEvents = Data.Events.loc[data_pos_charge_mask].copy()\n",
    "    elif charge == '-': \n",
    "        proj_mask = neg_mask\n",
    "        dataEvents = Data.Events.loc[data_neg_charge_mask].copy()\n",
    "    for j in range(4):\n",
    "        phi_peak_mask = (-0.1<=dataEvents['dtDPhibyStation_'+str(j)])&(dataEvents['dtDPhibyStation_'+str(j)] <= 0.1) \n",
    "        dataEvents = dataEvents.loc[phi_peak_mask]\n",
    "        dataEvents = dataEvents[dataEvents['dtDPhibyStation_'+str(j)] != -1]\n",
    "        real_dphi_mean = []\n",
    "        real_dphi_std = []\n",
    "        pt =[]\n",
    "        for i in range(bins): \n",
    "            pt_mask = (50*i/bins <= dataEvents['pt']) & (dataEvents['pt'] <=  50*(i+1)/bins)\n",
    "            pt_df = dataEvents.loc[pt_mask, ['pt']]\n",
    "            pt.append(pt_df['pt'].mean())\n",
    "            real_dphi_df = dataEvents.loc[pt_mask, ['dtDPhibyStation_'+str(j)]]\n",
    "            real_dphi_mean.append(real_dphi_df['dtDPhibyStation_'+str(j)].mean())\n",
    "            real_dphi_std.append(real_dphi_df['dtDPhibyStation_'+str(j)].std())\n",
    "            \n",
    "        plt.plot(projData.loc[proj_mask,'pt'],projData.loc[proj_mask,'dphi_S'+str(j)], color=cmap(j), label='$\\Delta$Phi_S'+str(j)+'('+charge+')')\n",
    "        plt.scatter(pt, real_dphi_mean, color=cmap(j), label='dtDPhibyStation_'+str(j)+'('+charge+')')\n",
    "        plt.errorbar(pt, real_dphi_mean, color=cmap(j), yerr=real_dphi_std, ls='none')\n",
    "\n",
    "plt.axhline(y=0, color='k')\n",
    "plt.xlabel('p$_t$')\n",
    "plt.ylabel('Phi')\n",
    "plt.title('p$_t$ vs. $\\Delta$Phi(overall projected) and DPhi(expected - observed)')\n",
    "plt.legend(bbox_to_anchor=(1.04, 1), loc=\"upper left\")\n",
    "plt.show()"
   ]
  },
  {
   "cell_type": "code",
   "execution_count": 18,
   "id": "fbba2493-7498-401a-bb6f-b405ddaa73b5",
   "metadata": {},
   "outputs": [
    {
     "data": {
      "image/png": "[encoded data removed]",
      "text/plain": [
       "<Figure size 432x288 with 1 Axes>"
      ]
     },
     "metadata": {
      "needs_background": "light"
     },
     "output_type": "display_data"
    }
   ],
   "source": [
    "bins=10\n",
    "\n",
    "for charge in Charges:\n",
    "    if charge == '+': \n",
    "        proj_mask = pos_mask \n",
    "        dataEvents = Data.Events.loc[data_pos_charge_mask].copy()\n",
    "    elif charge == '-': \n",
    "        proj_mask = neg_mask\n",
    "        dataEvents = Data.Events.loc[data_neg_charge_mask].copy()\n",
    "    for j in range(4):\n",
    "        phi_peak_mask = (-0.1<=dataEvents['dtDPhibyStation_'+str(j)])&(dataEvents['dtDPhibyStation_'+str(j)] <= 0.1) \n",
    "        dataEvents = dataEvents.loc[phi_peak_mask]\n",
    "        dataEvents = dataEvents[dataEvents['dtDPhibyStation_'+str(j)] != -1]\n",
    "        real_dphi_mean = []\n",
    "        real_dphi_std = []\n",
    "        eta =[]\n",
    "        for i in range(bins): \n",
    "            eta_mask = (0.5*i/bins <= dataEvents['eta']) & (dataEvents['eta'] <=  0.5*(i+1)/bins)\n",
    "            eta_df = dataEvents.loc[eta_mask, ['eta']]\n",
    "            eta.append(eta_df['eta'].mean())\n",
    "            real_dphi_df = dataEvents.loc[eta_mask, ['dtDPhibyStation_'+str(j)]]\n",
    "            real_dphi_mean.append(real_dphi_df['dtDPhibyStation_'+str(j)].mean())\n",
    "            real_dphi_std.append(real_dphi_df['dtDPhibyStation_'+str(j)].std())\n",
    "            \n",
    "        plt.scatter(eta, real_dphi_mean, color=cmap(j), label='dtDPhibyStation_'+str(j)+'('+charge+')')\n",
    "        plt.errorbar(eta, real_dphi_mean, color=cmap(j), yerr=real_dphi_std, ls='none')\n",
    "\n",
    "plt.axhline(y=0, color='k')\n",
    "plt.xlabel('eta')\n",
    "plt.ylabel('Phi')\n",
    "plt.title('eta vs. DPhi(expected - observed)')\n",
    "plt.legend(bbox_to_anchor=(1.04, 1), loc=\"upper left\")\n",
    "plt.show()\n"
   ]
  },
  {
   "cell_type": "code",
   "execution_count": 19,
   "id": "adc2ea83-322c-45a4-a129-50cdee8f0e85",
   "metadata": {
    "scrolled": true
   },
   "outputs": [
    {
     "name": "stdout",
     "output_type": "stream",
     "text": [
      "compiled unadjusted\n",
      "compiled adjusted\n",
      "compiled all ratios\n",
      "compiled iterative\n"
     ]
    },
    {
     "data": {
      "text/html": [
       "<table><tr><td><img src='data Station 0 Overall DT hits.jpg'></td><td><img src='mc Station 0 Overall DT hits.jpg'></td></tr></table>"
      ],
      "text/plain": [
       "<IPython.core.display.HTML object>"
      ]
     },
     "metadata": {},
     "output_type": "display_data"
    },
    {
     "data": {
      "text/html": [
       "<table><tr><td><img src='data Station 1 Overall DT hits.jpg'></td><td><img src='mc Station 1 Overall DT hits.jpg'></td></tr></table>"
      ],
      "text/plain": [
       "<IPython.core.display.HTML object>"
      ]
     },
     "metadata": {},
     "output_type": "display_data"
    },
    {
     "data": {
      "text/html": [
       "<table><tr><td><img src='data Station 2 Overall DT hits.jpg'></td><td><img src='mc Station 2 Overall DT hits.jpg'></td></tr></table>"
      ],
      "text/plain": [
       "<IPython.core.display.HTML object>"
      ]
     },
     "metadata": {},
     "output_type": "display_data"
    },
    {
     "data": {
      "text/html": [
       "<table><tr><td><img src='data Station 3 Overall DT hits.jpg'></td><td><img src='mc Station 3 Overall DT hits.jpg'></td></tr></table>"
      ],
      "text/plain": [
       "<IPython.core.display.HTML object>"
      ]
     },
     "metadata": {},
     "output_type": "display_data"
    }
   ],
   "source": [
    "ratio_Station, ratio_Iter, dataEvents, mcEvents = compile_hist(DEta, '', 0, 1.5)\n",
    "\n",
    "Types = [Data, MC]\n",
    "\n",
    "for i in range(4):\n",
    "    bad_bins_filter = [value >= 0 for value in mcEvents['Ratio_Station_'+str(i)].to_list()]\n",
    "    bad_bins = [k for k, x in enumerate(bad_bins_filter) if x]\n",
    "    mc_bad_events = mcEvents[mcEvents['DEta_Bin_Station_'+str(i)].isin(bad_bins)]\n",
    "    data_bad_events = dataEvents[dataEvents['DEta_Bin_Station_'+str(i)].isin(bad_bins)]\n",
    "\n",
    "for type in Types:\n",
    "    Muon_Eta = []\n",
    "    Muon_Phi = []\n",
    "    Event_Weight = []\n",
    "    \n",
    "    if type == Data:\n",
    "        EventWeight = data_bad_events['EventWeight']\n",
    "        Muon_eta = data_bad_events['eta']\n",
    "        Muon_phi = data_bad_events['phi']\n",
    "    if type == MC:\n",
    "        EventWeight = mc_bad_events['EventWeight']\n",
    "        Muon_eta = mc_bad_events['eta']\n",
    "        Muon_phi = mc_bad_events['phi']\n",
    "\n",
    "    for i in range (4):\n",
    "        Muon_Eta.append([float(value) for value in Muon_eta]) \n",
    "        Muon_Phi.append([float(value) for value in Muon_phi]) \n",
    "        Event_Weight.append([float(value) for value in EventWeight])\n",
    "\n",
    "\n",
    "    Total_Hits = np.histogram2d(Muon_eta, Muon_phi, bins=(100,100), range=[[-2.5, 2.5],[-math.pi, math.pi]], density=None, weights=EventWeight)\n",
    "    \n",
    "    for i in range (4):\n",
    "        xedges, yedges = Total_Hits[2], Total_Hits[1]\n",
    "        fig = plt.figure(figsize=(30, 30), dpi=100)\n",
    "        ax = fig.add_subplot(131, title=str(type.name)+' Station '+str(i)+' DT hits Overall, eta_mask ')\n",
    "        plt.imshow(Total_Hits[0], interpolation='nearest', origin='lower',\n",
    "            extent=[xedges[0], xedges[-1], yedges[0], yedges[-1]])\n",
    "        plt.xlabel('Muon $\\phi$')\n",
    "        plt.ylabel('Muon $\\eta$')\n",
    "        plt.colorbar(fraction=0.035, pad=0.04)\n",
    "        ax.yaxis.set_major_locator(ticker.MultipleLocator(0.1))\n",
    "        \n",
    "        plt.subplots_adjust(left=0.1, right=0.9, bottom=0.1, top=0.9)\n",
    "        plt.tight_layout(pad=1.08, h_pad=None, w_pad=None, rect=None)\n",
    "        plt.savefig(str(type.name)+' Station '+str(i)+' Overall DT hits.jpg', bbox_inches='tight')\n",
    "        plt.close()\n",
    "\n",
    "for i in range(4):\n",
    "    display(HTML(\"<table><tr><td><img src='data Station \"+str(i)+\" Overall DT hits.jpg'></td><td><img src='mc Station \"+str(i)+\" Overall DT hits.jpg'></td></tr></table>\"))"
   ]
  },
  {
   "cell_type": "code",
   "execution_count": 20,
   "id": "29b5706f-a95a-49fc-8722-17512e6b2694",
   "metadata": {},
   "outputs": [
    {
     "name": "stdout",
     "output_type": "stream",
     "text": [
      "compiled unadjusted\n",
      "compiled adjusted\n",
      "compiled all ratios\n",
      "compiled iterative\n",
      "In peak MC events:  6587 7039 7206 2531\n",
      "Out of peak MC events:  2122 1670 1503 6178\n",
      "In peak Data events:  31436 33261 34215 12364\n",
      "Out of peak Data events:  10166 8341 7387 29238\n",
      "Fraction In/Total MC events:  0.7563440119416696 0.8082443449305317 0.8274199104374784 0.29061889998851764\n",
      "Fraction In/Total Data events:  0.755636748233258 0.7995048314984856 0.8224364213258978 0.29719725013220516\n"
     ]
    },
    {
     "data": {
      "text/html": [
       "<table><tr><td><img src='data Station 0 DT hits DEta peak.jpg'></td><td><img src='mc Station 0 DT hits DEta peak.jpg'></td></tr></table>"
      ],
      "text/plain": [
       "<IPython.core.display.HTML object>"
      ]
     },
     "metadata": {},
     "output_type": "display_data"
    },
    {
     "data": {
      "text/html": [
       "<table><tr><td><img src='data Station 1 DT hits DEta peak.jpg'></td><td><img src='mc Station 1 DT hits DEta peak.jpg'></td></tr></table>"
      ],
      "text/plain": [
       "<IPython.core.display.HTML object>"
      ]
     },
     "metadata": {},
     "output_type": "display_data"
    },
    {
     "data": {
      "text/html": [
       "<table><tr><td><img src='data Station 2 DT hits DEta peak.jpg'></td><td><img src='mc Station 2 DT hits DEta peak.jpg'></td></tr></table>"
      ],
      "text/plain": [
       "<IPython.core.display.HTML object>"
      ]
     },
     "metadata": {},
     "output_type": "display_data"
    },
    {
     "data": {
      "text/html": [
       "<table><tr><td><img src='data Station 3 DT hits DEta peak.jpg'></td><td><img src='mc Station 3 DT hits DEta peak.jpg'></td></tr></table>"
      ],
      "text/plain": [
       "<IPython.core.display.HTML object>"
      ]
     },
     "metadata": {},
     "output_type": "display_data"
    },
    {
     "name": "stdout",
     "output_type": "stream",
     "text": [
      "\n",
      "\n",
      "\n",
      "\n",
      "\n",
      "\n"
     ]
    },
    {
     "data": {
      "text/html": [
       "<table><tr><td><img src='Data vs MC Station 0 DT hits DEta peak.jpg'></td><td><img src='Data vs MC Station 1 DT hits DEta peak.jpg'></td></tr></table>"
      ],
      "text/plain": [
       "<IPython.core.display.HTML object>"
      ]
     },
     "metadata": {},
     "output_type": "display_data"
    },
    {
     "data": {
      "text/html": [
       "<table><tr><td><img src='Data vs MC Station 2 DT hits DEta peak.jpg'></td><td><img src='Data vs MC Station 3 DT hits DEta peak.jpg'></td></tr></table>"
      ],
      "text/plain": [
       "<IPython.core.display.HTML object>"
      ]
     },
     "metadata": {},
     "output_type": "display_data"
    },
    {
     "name": "stdout",
     "output_type": "stream",
     "text": [
      "compiled unadjusted\n",
      "compiled adjusted\n",
      "compiled all ratios\n",
      "compiled iterative\n",
      "In peak MC events:  7228 7554 7507 6551\n",
      "Out of peak MC events:  1481 1155 1202 2158\n",
      "In peak Data events:  34720 35867 35884 31958\n",
      "Out of peak Data events:  6882 5735 5718 9644\n",
      "Fraction In/Total MC events:  0.8299460328395912 0.8673785738890802 0.861981857848203 0.7522103571018487\n",
      "Fraction In/Total Data events:  0.834575260804769 0.8621460506706409 0.8625546848709197 0.7681842219124081\n"
     ]
    },
    {
     "data": {
      "text/html": [
       "<table><tr><td><img src='data Station 0 DT hits DPhi peak.jpg'></td><td><img src='mc Station 0 DT hits DPhi peak.jpg'></td></tr></table>"
      ],
      "text/plain": [
       "<IPython.core.display.HTML object>"
      ]
     },
     "metadata": {},
     "output_type": "display_data"
    },
    {
     "data": {
      "text/html": [
       "<table><tr><td><img src='data Station 1 DT hits DPhi peak.jpg'></td><td><img src='mc Station 1 DT hits DPhi peak.jpg'></td></tr></table>"
      ],
      "text/plain": [
       "<IPython.core.display.HTML object>"
      ]
     },
     "metadata": {},
     "output_type": "display_data"
    },
    {
     "data": {
      "text/html": [
       "<table><tr><td><img src='data Station 2 DT hits DPhi peak.jpg'></td><td><img src='mc Station 2 DT hits DPhi peak.jpg'></td></tr></table>"
      ],
      "text/plain": [
       "<IPython.core.display.HTML object>"
      ]
     },
     "metadata": {},
     "output_type": "display_data"
    },
    {
     "data": {
      "text/html": [
       "<table><tr><td><img src='data Station 3 DT hits DPhi peak.jpg'></td><td><img src='mc Station 3 DT hits DPhi peak.jpg'></td></tr></table>"
      ],
      "text/plain": [
       "<IPython.core.display.HTML object>"
      ]
     },
     "metadata": {},
     "output_type": "display_data"
    },
    {
     "name": "stdout",
     "output_type": "stream",
     "text": [
      "\n",
      "\n",
      "\n",
      "\n",
      "\n",
      "\n"
     ]
    },
    {
     "data": {
      "text/html": [
       "<table><tr><td><img src='Data vs MC Station 0 DT hits DPhi peak.jpg'></td><td><img src='Data vs MC Station 1 DT hits DPhi peak.jpg'></td></tr></table>"
      ],
      "text/plain": [
       "<IPython.core.display.HTML object>"
      ]
     },
     "metadata": {},
     "output_type": "display_data"
    },
    {
     "data": {
      "text/html": [
       "<table><tr><td><img src='Data vs MC Station 2 DT hits DPhi peak.jpg'></td><td><img src='Data vs MC Station 3 DT hits DPhi peak.jpg'></td></tr></table>"
      ],
      "text/plain": [
       "<IPython.core.display.HTML object>"
      ]
     },
     "metadata": {},
     "output_type": "display_data"
    }
   ],
   "source": [
    "peak_lim = 0.05\n",
    "\n",
    "def compile_2d_hist(Prox_Hits,title,hist_data,save_name,coord,i):\n",
    "    xedges, yedges = Prox_Hits[i][2], Prox_Hits[i][1]\n",
    "    fig = plt.figure(figsize=(30, 30), dpi=100)\n",
    "    ax = fig.add_subplot(131, title=title)\n",
    "    plt.imshow(hist_data, interpolation='nearest', origin='lower',\n",
    "        extent=[xedges[0], xedges[-1], yedges[0], yedges[-1]], vmin=0, vmax=1)\n",
    "    plt.xlabel('Muon $\\phi$')\n",
    "    plt.ylabel('Muon $\\eta$')\n",
    "    plt.colorbar(fraction=0.035, pad=0.04)\n",
    "    ax.yaxis.set_major_locator(ticker.MultipleLocator(0.1))\n",
    "    plt.subplots_adjust(left=0.1, right=0.9, bottom=0.1, top=0.9)\n",
    "    plt.tight_layout(pad=1.08, h_pad=None, w_pad=None, rect=None)\n",
    "    plt.savefig(save_name, bbox_inches='tight')\n",
    "    plt.close()\n",
    "\n",
    "for coord in [DEta, DPhi]:\n",
    "\n",
    "    ratio_Station, ratio_Iter, dataEvents, mcEvents = compile_hist(coord, '', 0, 1.5)\n",
    "        \n",
    "    Data.proximity_mask = []\n",
    "    MC.proximity_mask = []\n",
    "    for i in range(4):\n",
    "        Data.proximity_mask.append(abs(dataEvents['dt'+coord.name+'byStation_'+str(i)]) <= peak_lim)\n",
    "        MC.proximity_mask.append(abs(mcEvents['dt'+coord.name+'byStation_'+str(i)]) <= peak_lim)\n",
    "    \n",
    "        \n",
    "    print('In peak MC events: ', np.sum(MC.proximity_mask[0]), np.sum(MC.proximity_mask[1]), np.sum(MC.proximity_mask[2]), np.sum(MC.proximity_mask[3]))\n",
    "    print('Out of peak MC events: ', np.sum(~MC.proximity_mask[0]), np.sum(~MC.proximity_mask[1]), np.sum(~MC.proximity_mask[2]), np.sum(~MC.proximity_mask[3]))\n",
    "    \n",
    "    print('In peak Data events: ', np.sum(Data.proximity_mask[0]), np.sum(Data.proximity_mask[1]), np.sum(Data.proximity_mask[2]), np.sum(Data.proximity_mask[3]))\n",
    "    print('Out of peak Data events: ', np.sum(~Data.proximity_mask[0]), np.sum(~Data.proximity_mask[1]), np.sum(~Data.proximity_mask[2]), np.sum(~Data.proximity_mask[3]))\n",
    "    \n",
    "    def fraction(prox_mask):\n",
    "        return np.sum(prox_mask)/(np.sum(prox_mask)+np.sum(~prox_mask))\n",
    "    \n",
    "    print('Fraction In/Total MC events: ', fraction(MC.proximity_mask[0]), fraction(MC.proximity_mask[1]), fraction(MC.proximity_mask[2]), fraction(MC.proximity_mask[3]))\n",
    "    print('Fraction In/Total Data events: ', fraction(Data.proximity_mask[0]), fraction(Data.proximity_mask[1]), fraction(Data.proximity_mask[2]), fraction(Data.proximity_mask[3]))\n",
    "    \n",
    "    \n",
    "    Types = [Data, MC]\n",
    "\n",
    "    for method in ['single','combined']:\n",
    "    \n",
    "        for i in range(4):\n",
    "            bad_bins_filter = [value >= 0 for value in mcEvents['Ratio_Station_'+str(i)].to_list()]\n",
    "            bad_bins = [k for k, x in enumerate(bad_bins_filter) if x]\n",
    "            mc_bad_events = mcEvents[mcEvents[coord.name+'_Bin_Station_'+str(i)].isin(bad_bins)]\n",
    "            data_bad_events = dataEvents[dataEvents[coord.name+'_Bin_Station_'+str(i)].isin(bad_bins)]\n",
    "        \n",
    "        for type in Types:\n",
    "            Muon_Eta = []\n",
    "            Muon_Phi = []\n",
    "            Event_Weight = []\n",
    "            \n",
    "            if type == Data:\n",
    "                EventWeight = data_bad_events['EventWeight']\n",
    "                Muon_eta = data_bad_events['eta']\n",
    "                Muon_phi = data_bad_events['phi']\n",
    "            elif type == MC:\n",
    "                EventWeight = mc_bad_events['EventWeight']\n",
    "                Muon_eta = mc_bad_events['eta']\n",
    "                Muon_phi = mc_bad_events['phi']\n",
    "        \n",
    "            for i in range (4):\n",
    "                Muon_Eta.append([float(value) for value in Muon_eta[type.proximity_mask[i]]]) #Muon_eta is eta masked\n",
    "                Muon_Phi.append([float(value) for value in Muon_phi[type.proximity_mask[i]]]) #Muon_phi is eta masked\n",
    "                Event_Weight.append([float(value) for value in EventWeight[type.proximity_mask[i]]])\n",
    "\n",
    "            if method == 'single':\n",
    "                xbins = 100 #xbins goes second in hist2D because it requires transposed input and i want it sideways but dont wanna rewrite code\n",
    "                ybins = 100\n",
    "            elif method == 'combined':\n",
    "                xbins = 100\n",
    "                ybins = 50\n",
    "        \n",
    "        \n",
    "            Total_Hits = np.histogram2d(Muon_eta, Muon_phi, bins=(ybins,xbins), range=[[-2.5, 2.5],[-math.pi, math.pi]], density=None, weights=EventWeight)\n",
    "            Prox_Hits = []\n",
    "            Eff_Hits = []\n",
    "    \n",
    "            for i in range (4):\n",
    "                Prox_Hits.append(np.histogram2d(Muon_Eta[i], Muon_Phi[i], bins=(ybins,xbins), range=[[-2.5, 2.5],[-math.pi, math.pi]], density=None, weights=Event_Weight[i]))\n",
    "                Eff_Hits.append(np.divide(Prox_Hits[i][0],Total_Hits[0]))\n",
    "\n",
    "                if method == 'single': \n",
    "                    hist_data = Eff_Hits[i]\n",
    "                    title = str(type.name)+' Station '+str(i)+' DT hits, eta_mask + peak isolation '+coord.name+' <= '+str(peak_lim)\n",
    "                    save_name = str(type.name)+' Station '+str(i)+' DT hits '+coord.name+' peak.jpg'\n",
    "                    compile_2d_hist(Prox_Hits,title,hist_data,save_name,coord,i)\n",
    "\n",
    "            if method == 'combined':\n",
    "                if type == Data: \n",
    "                    Data_Eff = Eff_Hits\n",
    "                elif type == MC: \n",
    "                    MC_Eff = Eff_Hits\n",
    "                    Ratio_Hits = np.divide(Data_Eff, MC_Eff)\n",
    "                    for i in range(4):\n",
    "                        hist_data = Ratio_Hits[i]\n",
    "                        title = 'Data vs MC Station '+str(i)+' DT hits, eta_mask + peak isolation '+coord.name+' <= '+str(peak_lim)\n",
    "                        save_name = 'Data vs MC Station '+str(i)+' DT hits '+coord.name+' peak.jpg'\n",
    "                        compile_2d_hist(Prox_Hits,title,hist_data,save_name,coord,i)\n",
    "                    \n",
    "        if method == 'single':\n",
    "            for i in range(4):\n",
    "                display(HTML(\"<table><tr><td><img src='data Station \"+str(i)+\" DT hits \"+coord.name+\" peak.jpg'></td><td><img src='mc Station \"+str(i)+\" DT hits \"+coord.name+\" peak.jpg'></td></tr></table>\"))\n",
    "            for i in range(3): print('\\n')\n",
    "        if method == 'combined':\n",
    "             for i in range(2):\n",
    "                display(HTML(\"<table><tr><td><img src='Data vs MC Station \"+str(2*i)+\" DT hits \"+coord.name+\" peak.jpg'></td><td><img src='Data vs MC Station \"+str(2*i+1)+\" DT hits \"+coord.name+\" peak.jpg'></td></tr></table>\"))"
   ]
  },
  {
   "cell_type": "code",
   "execution_count": 21,
   "id": "9c33d957-a086-4300-bc59-c3077fddaa6e",
   "metadata": {
    "scrolled": true
   },
   "outputs": [
    {
     "name": "stdout",
     "output_type": "stream",
     "text": [
      "compiled unadjusted\n",
      "compiled adjusted\n",
      "compiled all ratios\n",
      "compiled iterative\n",
      "Overflow MC events:  836 935 1112 1166\n",
      "In MC events:  7873 7774 7597 7543\n",
      "Overflow Data events:  3262 4400 5052 3640\n",
      "In Data events:  38340 37202 36550 37962\n",
      "Fraction Overflow/Total MC events:  0.09599265128028477 0.10736020208979218 0.1276840050522448 0.1338844873119761\n",
      "Fraction Overflow/Total Data events:  0.07840969184173838 0.10576414595452142 0.12143646940050959 0.08749579347146771\n"
     ]
    },
    {
     "data": {
      "text/html": [
       "<table><tr><td><img src='data Station 0 DT hits DEta far.jpg'></td><td><img src='mc Station 0 DT hits DEta far.jpg'></td></tr></table>"
      ],
      "text/plain": [
       "<IPython.core.display.HTML object>"
      ]
     },
     "metadata": {},
     "output_type": "display_data"
    },
    {
     "data": {
      "text/html": [
       "<table><tr><td><img src='data Station 1 DT hits DEta far.jpg'></td><td><img src='mc Station 1 DT hits DEta far.jpg'></td></tr></table>"
      ],
      "text/plain": [
       "<IPython.core.display.HTML object>"
      ]
     },
     "metadata": {},
     "output_type": "display_data"
    },
    {
     "data": {
      "text/html": [
       "<table><tr><td><img src='data Station 2 DT hits DEta far.jpg'></td><td><img src='mc Station 2 DT hits DEta far.jpg'></td></tr></table>"
      ],
      "text/plain": [
       "<IPython.core.display.HTML object>"
      ]
     },
     "metadata": {},
     "output_type": "display_data"
    },
    {
     "data": {
      "text/html": [
       "<table><tr><td><img src='data Station 3 DT hits DEta far.jpg'></td><td><img src='mc Station 3 DT hits DEta far.jpg'></td></tr></table>"
      ],
      "text/plain": [
       "<IPython.core.display.HTML object>"
      ]
     },
     "metadata": {},
     "output_type": "display_data"
    },
    {
     "name": "stdout",
     "output_type": "stream",
     "text": [
      "compiled unadjusted\n",
      "compiled adjusted\n",
      "compiled all ratios\n",
      "compiled iterative\n",
      "Overflow MC events:  821 952 1122 1171\n",
      "In MC events:  7888 7757 7587 7538\n",
      "Overflow Data events:  3115 4472 5181 3969\n",
      "In Data events:  38487 37130 36421 37633\n",
      "Fraction Overflow/Total MC events:  0.09427029509702607 0.10931220576415203 0.1288322425077506 0.134458606039729\n",
      "Fraction Overflow/Total Data events:  0.07487620787462142 0.10749483197923176 0.12453728186144897 0.09540406711215807\n"
     ]
    },
    {
     "data": {
      "text/html": [
       "<table><tr><td><img src='data Station 0 DT hits DPhi far.jpg'></td><td><img src='mc Station 0 DT hits DPhi far.jpg'></td></tr></table>"
      ],
      "text/plain": [
       "<IPython.core.display.HTML object>"
      ]
     },
     "metadata": {},
     "output_type": "display_data"
    },
    {
     "data": {
      "text/html": [
       "<table><tr><td><img src='data Station 1 DT hits DPhi far.jpg'></td><td><img src='mc Station 1 DT hits DPhi far.jpg'></td></tr></table>"
      ],
      "text/plain": [
       "<IPython.core.display.HTML object>"
      ]
     },
     "metadata": {},
     "output_type": "display_data"
    },
    {
     "data": {
      "text/html": [
       "<table><tr><td><img src='data Station 2 DT hits DPhi far.jpg'></td><td><img src='mc Station 2 DT hits DPhi far.jpg'></td></tr></table>"
      ],
      "text/plain": [
       "<IPython.core.display.HTML object>"
      ]
     },
     "metadata": {},
     "output_type": "display_data"
    },
    {
     "data": {
      "text/html": [
       "<table><tr><td><img src='data Station 3 DT hits DPhi far.jpg'></td><td><img src='mc Station 3 DT hits DPhi far.jpg'></td></tr></table>"
      ],
      "text/plain": [
       "<IPython.core.display.HTML object>"
      ]
     },
     "metadata": {},
     "output_type": "display_data"
    }
   ],
   "source": [
    "over_lim = 1\n",
    "\n",
    "for coord in [DEta, DPhi]:\n",
    "\n",
    "    ratio_Station, ratio_Iter, dataEvents, mcEvents = compile_hist(coord, '', 0, 1.5)\n",
    "        \n",
    "    Data.proximity_mask = []\n",
    "    MC.proximity_mask = []\n",
    "    for i in range(4):\n",
    "        Data.proximity_mask.append(abs(dataEvents['dt'+coord.name+'byStation_'+str(i)]) >= over_lim)\n",
    "        MC.proximity_mask.append(abs(mcEvents['dt'+coord.name+'byStation_'+str(i)]) >= over_lim)\n",
    "    \n",
    "        \n",
    "    print('Overflow MC events: ', np.sum(MC.proximity_mask[0]), np.sum(MC.proximity_mask[1]), np.sum(MC.proximity_mask[2]), np.sum(MC.proximity_mask[3]))\n",
    "    print('In MC events: ', np.sum(~MC.proximity_mask[0]), np.sum(~MC.proximity_mask[1]), np.sum(~MC.proximity_mask[2]), np.sum(~MC.proximity_mask[3]))\n",
    "    \n",
    "    print('Overflow Data events: ', np.sum(Data.proximity_mask[0]), np.sum(Data.proximity_mask[1]), np.sum(Data.proximity_mask[2]), np.sum(Data.proximity_mask[3]))\n",
    "    print('In Data events: ', np.sum(~Data.proximity_mask[0]), np.sum(~Data.proximity_mask[1]), np.sum(~Data.proximity_mask[2]), np.sum(~Data.proximity_mask[3]))\n",
    "    \n",
    "    def fraction(prox_mask):\n",
    "        return np.sum(prox_mask)/(np.sum(prox_mask)+np.sum(~prox_mask))\n",
    "    \n",
    "    print('Fraction Overflow/Total MC events: ', fraction(MC.proximity_mask[0]), fraction(MC.proximity_mask[1]), fraction(MC.proximity_mask[2]), fraction(MC.proximity_mask[3]))\n",
    "    print('Fraction Overflow/Total Data events: ', fraction(Data.proximity_mask[0]), fraction(Data.proximity_mask[1]), fraction(Data.proximity_mask[2]), fraction(Data.proximity_mask[3]))\n",
    "    \n",
    "    \n",
    "    Types = [Data, MC]\n",
    "    \n",
    "    for i in range(4):\n",
    "        bad_bins_filter = [value >= 0 for value in mcEvents['Ratio_Station_'+str(i)].to_list()]\n",
    "        bad_bins = [k for k, x in enumerate(bad_bins_filter) if x]\n",
    "        mc_bad_events = mcEvents[mcEvents[coord.name+'_Bin_Station_'+str(i)].isin(bad_bins)]\n",
    "        data_bad_events = dataEvents[dataEvents[coord.name+'_Bin_Station_'+str(i)].isin(bad_bins)]\n",
    "    \n",
    "    for type in Types:\n",
    "        Muon_Eta = []\n",
    "        Muon_Phi = []\n",
    "        Event_Weight = []\n",
    "        \n",
    "        if type == Data:\n",
    "            EventWeight = data_bad_events['EventWeight']\n",
    "            Muon_eta = data_bad_events['eta']\n",
    "            Muon_phi = data_bad_events['phi']\n",
    "        if type == MC:\n",
    "            EventWeight = mc_bad_events['EventWeight']\n",
    "            Muon_eta = mc_bad_events['eta']\n",
    "            Muon_phi = mc_bad_events['phi']\n",
    "    \n",
    "        for i in range (4):\n",
    "            Muon_Eta.append([float(value) for value in Muon_eta[type.proximity_mask[i]]]) #Muon_eta is eta masked\n",
    "            Muon_Phi.append([float(value) for value in Muon_phi[type.proximity_mask[i]]]) #Muon_phi is eta masked\n",
    "            Event_Weight.append([float(value) for value in EventWeight[type.proximity_mask[i]]])\n",
    "    \n",
    "    \n",
    "        Total_Hits = np.histogram2d(Muon_eta, Muon_phi, bins=(100,100), range=[[-2.5, 2.5],[-math.pi, math.pi]], density=None, weights=EventWeight)\n",
    "        Prox_Hits = []\n",
    "        Eff_Hits = []\n",
    "        \n",
    "        for i in range (4):\n",
    "            Prox_Hits.append(np.histogram2d(Muon_Eta[i], Muon_Phi[i], bins=(100,100), range=[[-2.5, 2.5],[-math.pi, math.pi]], density=None, weights=Event_Weight[i]))\n",
    "            Eff_Hits.append(np.divide(Prox_Hits[i][0],Total_Hits[0]))\n",
    "            xedges, yedges = Prox_Hits[i][2], Prox_Hits[i][1]\n",
    "            fig = plt.figure(figsize=(30, 30), dpi=100)\n",
    "            ax = fig.add_subplot(131, title=str(type.name)+' Station '+str(i)+' DT hits, eta_mask + overflow '+coord.name+' >= '+str(over_lim))\n",
    "            plt.imshow(Eff_Hits[i], interpolation='nearest', origin='lower',\n",
    "                extent=[xedges[0], xedges[-1], yedges[0], yedges[-1]])\n",
    "            plt.xlabel('Muon $\\phi$')\n",
    "            plt.ylabel('Muon $\\eta$')\n",
    "            plt.colorbar(fraction=0.035, pad=0.04)\n",
    "            ax.yaxis.set_major_locator(ticker.MultipleLocator(0.1))\n",
    "            \n",
    "            plt.subplots_adjust(left=0.1, right=0.9, bottom=0.1, top=0.9)\n",
    "            plt.tight_layout(pad=1.08, h_pad=None, w_pad=None, rect=None)\n",
    "            plt.savefig(str(type.name)+' Station '+str(i)+' DT hits '+coord.name+' far.jpg', bbox_inches='tight')\n",
    "            plt.close()\n",
    "    \n",
    "    for i in range(4):\n",
    "        display(HTML(\"<table><tr><td><img src='data Station \"+str(i)+\" DT hits \"+coord.name+\" far.jpg'></td><td><img src='mc Station \"+str(i)+\" DT hits \"+coord.name+\" far.jpg'></td></tr></table>\"))\n"
   ]
  },
  {
   "cell_type": "code",
   "execution_count": 22,
   "id": "c1baac8f-553f-428d-90e9-fca988c07d7c",
   "metadata": {
    "scrolled": true
   },
   "outputs": [
    {
     "data": {
      "text/html": [
       "<table><tr><td><img src='data Station 0 DT hits by secondary peak.jpg'></td><td><img src='mc Station 0 DT hits by secondary peak.jpg'></td></tr></table>"
      ],
      "text/plain": [
       "<IPython.core.display.HTML object>"
      ]
     },
     "metadata": {},
     "output_type": "display_data"
    },
    {
     "data": {
      "text/html": [
       "<table><tr><td><img src='data Station 1 DT hits by secondary peak.jpg'></td><td><img src='mc Station 1 DT hits by secondary peak.jpg'></td></tr></table>"
      ],
      "text/plain": [
       "<IPython.core.display.HTML object>"
      ]
     },
     "metadata": {},
     "output_type": "display_data"
    },
    {
     "data": {
      "text/html": [
       "<table><tr><td><img src='data Station 2 DT hits by secondary peak.jpg'></td><td><img src='mc Station 2 DT hits by secondary peak.jpg'></td></tr></table>"
      ],
      "text/plain": [
       "<IPython.core.display.HTML object>"
      ]
     },
     "metadata": {},
     "output_type": "display_data"
    }
   ],
   "source": [
    "Data.proximity_mask = []\n",
    "MC.proximity_mask = []\n",
    "\n",
    "ranges = [[0.17,0.24],[0.155,0.22],[0.145,0.20]]\n",
    "\n",
    "for i in range(3):\n",
    "    Data.proximity_mask.append((ranges[i][0] <= abs(data_bad_events['dtDEtabyStation_0'])) & (abs(data_bad_events['dtDEtabyStation_0']) <= ranges[i][1]))\n",
    "    MC.proximity_mask.append((ranges[i][0] <= abs(mc_bad_events['dtDEtabyStation_0'])) & (abs(mc_bad_events['dtDEtabyStation_0']) <= ranges[i][1]))\n",
    "\n",
    "for type in Types:\n",
    "    Muon_Eta = []\n",
    "    Muon_Phi = []\n",
    "    Event_Weight = []\n",
    "    \n",
    "    if type == Data:\n",
    "        EventWeight = data_bad_events['EventWeight']\n",
    "        Muon_eta = data_bad_events['eta']\n",
    "        Muon_phi = data_bad_events['phi']\n",
    "    if type == MC:\n",
    "        EventWeight = mc_bad_events['EventWeight']\n",
    "        Muon_eta = mc_bad_events['eta']\n",
    "        Muon_phi = mc_bad_events['phi']\n",
    "\n",
    "    for i in range (3):\n",
    "        Muon_Eta.append([float(value) for value in Muon_eta[type.proximity_mask[i]]]) #Muon_eta is eta masked\n",
    "        Muon_Phi.append([float(value) for value in Muon_phi[type.proximity_mask[i]]]) #Muon_phi is eta masked\n",
    "        Event_Weight.append([float(value) for value in EventWeight[type.proximity_mask[i]]])\n",
    "\n",
    "    Total_Hits = np.histogram2d(Muon_eta, Muon_phi, bins=(100,100), range=[[-2.5, 2.5],[-math.pi, math.pi]], density=None, weights=EventWeight)\n",
    "    Prox_Hits = []\n",
    "    Eff_Hits = []\n",
    "    \n",
    "    for i in range (3):\n",
    "        Prox_Hits.append(np.histogram2d(Muon_Eta[i], Muon_Phi[i], bins=(100,100), range=[[-2.5, 2.5],[-math.pi, math.pi]], density=None, weights=Event_Weight[i]))\n",
    "        Eff_Hits.append(np.divide(Prox_Hits[i][0],Total_Hits[0]))\n",
    "        xedges, yedges = Prox_Hits[i][2], Prox_Hits[i][1]\n",
    "        fig = plt.figure(figsize=(30, 30), dpi=100)\n",
    "        ax = fig.add_subplot(131, title=str(type.name)+' Station '+str(i)+' DT hits, eta_mask + secondary peak isolation '+str(ranges[i][0])+' <= DEta >= '+str(ranges[i][1]))\n",
    "        plt.imshow(Eff_Hits[i], interpolation='nearest', origin='lower',\n",
    "            extent=[xedges[0], xedges[-1], yedges[0], yedges[-1]])\n",
    "        plt.xlabel('Muon $\\phi$')\n",
    "        plt.ylabel('Muon $\\eta$')\n",
    "        plt.colorbar(fraction=0.035, pad=0.04)\n",
    "        ax.yaxis.set_major_locator(ticker.MultipleLocator(0.1))\n",
    "        \n",
    "        plt.subplots_adjust(left=0.1, right=0.9, bottom=0.1, top=0.9)\n",
    "        plt.tight_layout(pad=1.08, h_pad=None, w_pad=None, rect=None)\n",
    "        plt.savefig(str(type.name)+' Station '+str(i)+' DT hits by secondary peak.jpg', bbox_inches='tight')\n",
    "        plt.close()\n",
    "\n",
    "for i in range(3):\n",
    "    display(HTML(\"<table><tr><td><img src='data Station \"+str(i)+\" DT hits by secondary peak.jpg'></td><td><img src='mc Station \"+str(i)+\" DT hits by secondary peak.jpg'></td></tr></table>\"))"
   ]
  },
  {
   "cell_type": "code",
   "execution_count": 23,
   "id": "af13195f-bb44-4189-b864-abff8e36fb68",
   "metadata": {
    "scrolled": true
   },
   "outputs": [
    {
     "name": "stdout",
     "output_type": "stream",
     "text": [
      "skipped cell\n"
     ]
    }
   ],
   "source": [
    "if 1 == 2:\n",
    "    #Calculate the quantiles\n",
    "    quantiles = [data_bad_events['dtDEtabyStation_0'].abs().quantile(i/10.0) for i in range(11)]\n",
    "    \n",
    "    for i in range(10):\n",
    "        i1, i2 = quantiles[i], quantiles[i+1]\n",
    "    \n",
    "        Data.proximity_mask = (i1 <= abs(data_bad_events['dtDEtabyStation_0'])) & (abs(data_bad_events['dtDEtabyStation_0']) <= i2)\n",
    "    \n",
    "        EventWeight = data_bad_events['EventWeight']\n",
    "        Muon_eta = data_bad_events['eta']\n",
    "        Muon_phi = data_bad_events['phi']\n",
    "    \n",
    "        Muon_Eta = [float(value) for value in Muon_eta[Data.proximity_mask]] #Muon_eta is eta masked\n",
    "        Muon_Phi = [float(value) for value in Muon_phi[Data.proximity_mask]] #Muon_phi is eta masked\n",
    "        Event_Weight = [float(value) for value in EventWeight[Data.proximity_mask]]\n",
    "    \n",
    "        Total_Hits = np.histogram2d(Muon_eta, Muon_phi, bins=(100,100), range=[[-2.5, 2.5],[-math.pi, math.pi]], density=None, weights=EventWeight)\n",
    "    \n",
    "        Prox_Hits = np.histogram2d(Muon_Eta, Muon_Phi, bins=(100,100), range=[[-2.5, 2.5],[-math.pi, math.pi]], density=None, weights=Event_Weight)\n",
    "        Eff_Hits = np.divide(Prox_Hits[0],Total_Hits[0])\n",
    "        xedges, yedges = Prox_Hits[2], Prox_Hits[1]\n",
    "        fig = plt.figure(figsize=(30, 30), dpi=100)\n",
    "        ax = fig.add_subplot(131, title=str(type.name)+' Station 0 DT hits, eta_mask + secondary peak isolation '+str(i1)+' <= DEta >= '+str(i2))\n",
    "        plt.imshow(Eff_Hits, interpolation='nearest', origin='lower',\n",
    "            extent=[xedges[0], xedges[-1], yedges[0], yedges[-1]])\n",
    "        plt.xlabel('Muon $\\phi$')\n",
    "        plt.ylabel('Muon $\\eta$')\n",
    "        plt.colorbar(fraction=0.035, pad=0.04)\n",
    "        ax.yaxis.set_major_locator(ticker.MultipleLocator(0.1))\n",
    "    \n",
    "        plt.subplots_adjust(left=0.1, right=0.9, bottom=0.1, top=0.9)\n",
    "        plt.tight_layout(pad=1.08, h_pad=None, w_pad=None, rect=None)\n",
    "        plt.plot()\n",
    "else:\n",
    "    print('skipped cell')\n"
   ]
  },
  {
   "cell_type": "code",
   "execution_count": 24,
   "id": "f0df8f8f-8e52-40c7-9932-564ecfd040b2",
   "metadata": {
    "scrolled": true
   },
   "outputs": [
    {
     "name": "stdout",
     "output_type": "stream",
     "text": [
      "skipped cell\n"
     ]
    }
   ],
   "source": [
    "if 1==2:\n",
    "    # Calculate the quantiles\n",
    "    quantiles = [data_bad_events['dtDEtabyStation_0'].abs().quantile(i/20.0) for i in range(21)]\n",
    "    \n",
    "    for i in range(20):\n",
    "        if i == 0:\n",
    "            i0 = 0\n",
    "        else:\n",
    "            i0 = quantiles[i-1]\n",
    "    \n",
    "        if i == 19:\n",
    "            i2 = 5\n",
    "        else:\n",
    "            i2 = quantiles[i+2]\n",
    "    \n",
    "        i1 = quantiles[i]\n",
    "    \n",
    "        Data.proximity_mask = (i0 <= abs(data_bad_events['dtDEtabyStation_0'])) & (abs(data_bad_events['dtDEtabyStation_0']) <= i2)\n",
    "        EventWeight = data_bad_events['EventWeight']\n",
    "        Muon_eta = data_bad_events['eta']\n",
    "        Muon_phi = data_bad_events['phi']\n",
    "    \n",
    "        Muon_Eta = [float(value) for value in Muon_eta[Data.proximity_mask]] #Muon_eta is eta masked\n",
    "        Muon_Phi = [float(value) for value in Muon_phi[Data.proximity_mask]] #Muon_phi is eta masked\n",
    "        Event_Weight = [float(value) for value in EventWeight[Data.proximity_mask]]\n",
    "    \n",
    "        Total_Hits = np.histogram2d(Muon_eta, Muon_phi, bins=(100,100), range=[[-2.5, 2.5],[-math.pi, math.pi]], density=None, weights=EventWeight)\n",
    "    \n",
    "        Prox_Hits = np.histogram2d(Muon_Eta, Muon_Phi, bins=(100,100), range=[[-2.5, 2.5],[-math.pi, math.pi]], density=None, weights=Event_Weight)\n",
    "        Eff_Hits = np.divide(Prox_Hits[0],Total_Hits[0])\n",
    "        xedges, yedges = Prox_Hits[2], Prox_Hits[1]\n",
    "        fig = plt.figure(figsize=(30, 30), dpi=100)\n",
    "        ax = fig.add_subplot(131, title=str(type.name)+' Station '+str(i)+' DT hits, eta_mask + secondary peak isolation '+str(i0)+' <= DEta >= '+str(i2))\n",
    "        plt.imshow(Eff_Hits, interpolation='nearest', origin='lower',\n",
    "            extent=[xedges[0], xedges[-1], yedges[0], yedges[-1]])\n",
    "        plt.xlabel('Muon $\\phi$')\n",
    "        plt.ylabel('Muon $\\eta$')\n",
    "        plt.colorbar(fraction=0.035, pad=0.04)\n",
    "    ax.yaxis.set_major_locator(ticker.MultipleLocator(0.1))\n",
    "\n",
    "    plt.subplots_adjust(left=0.1, right=0.9, bottom=0.1, top=0.9)\n",
    "    plt.tight_layout(pad=1.08, h_pad=None, w_pad=None, rect=None)\n",
    "    plt.plot()\n",
    "else:\n",
    "    print('skipped cell')"
   ]
  },
  {
   "cell_type": "code",
   "execution_count": 25,
   "id": "36b8085e-f05b-4b54-a57e-3f546922028b",
   "metadata": {},
   "outputs": [
    {
     "name": "stdout",
     "output_type": "stream",
     "text": [
      "skipped cell\n"
     ]
    }
   ],
   "source": [
    "#UNSMOOTHED\n",
    "\n",
    "if 1==2:\n",
    "    import matplotlib.animation as animation\n",
    "    \n",
    "    print('start')\n",
    "    \n",
    "    # Calculate the quantiles\n",
    "    quantiles = [data_bad_events['dtDEtabyStation_0'].abs().quantile(i/40.0) for i in range(41)]\n",
    "    \n",
    "    # set up figure and animation\n",
    "    fig = plt.figure(figsize=(30, 30), dpi=100)\n",
    "    ax = fig.add_subplot(131)\n",
    "    im = ax.imshow(np.zeros((100,100)), interpolation='nearest', origin='lower',\n",
    "        extent=[-math.pi, math.pi, -2.5, 2.5], vmin=0, vmax=1)\n",
    "    cb = plt.colorbar(im, fraction=0.035, pad=0.04)\n",
    "    ax.yaxis.set_major_locator(ticker.MultipleLocator(0.1))\n",
    "    plt.subplots_adjust(left=0.1, right=0.9, bottom=0.1, top=0.9)\n",
    "    plt.tight_layout(pad=1.08, h_pad=None, w_pad=None, rect=None)\n",
    "    \n",
    "    def updatefig(i):\n",
    "        i1, i2 = quantiles[i], quantiles[i+1]\n",
    "        Data.proximity_mask = (i1 <= abs(data_bad_events['dtDEtabyStation_0'])) & (abs(data_bad_events['dtDEtabyStation_0']) <= i2)\n",
    "        \n",
    "        EventWeight = data_bad_events['EventWeight']\n",
    "        Muon_eta = data_bad_events['eta']\n",
    "        Muon_phi = data_bad_events['phi']\n",
    "    \n",
    "        Muon_Eta = [float(value) for value in Muon_eta[Data.proximity_mask]] #Muon_eta is eta masked\n",
    "        Muon_Phi = [float(value) for value in Muon_phi[Data.proximity_mask]] #Muon_phi is eta masked\n",
    "        Event_Weight = [float(value) for value in EventWeight[Data.proximity_mask]]\n",
    "    \n",
    "        Total_Hits = np.histogram2d(Muon_eta, Muon_phi, bins=(100,100), range=[[-2.5, 2.5],[-math.pi, math.pi]], density=None, weights=EventWeight)\n",
    "    \n",
    "        Prox_Hits = np.histogram2d(Muon_Eta, Muon_Phi, bins=(100,100), range=[[-2.5, 2.5],[-math.pi, math.pi]], density=None, weights=Event_Weight)\n",
    "        Eff_Hits = np.divide(Prox_Hits[0],Total_Hits[0])\n",
    "        xedges, yedges = Prox_Hits[2], Prox_Hits[1]\n",
    "        im.set_data(Eff_Hits)\n",
    "        ax.set_title(Data.name+' Station 0 DT hits, eta_mask + incremental isolation '+str(i0)+' <= DEta >= '+str(i2))\n",
    "        plt.xlabel('Muon $\\phi$')\n",
    "        plt.ylabel('Muon $\\eta$')\n",
    "        return im,\n",
    "    \n",
    "    ani = animation.FuncAnimation(fig, updatefig, frames=range(len(quantiles)), interval=100, blit=True)\n",
    "    \n",
    "    # Save the animation as a gif file\n",
    "    ani.save('animationUnsmoothed.gif', writer='imagemagick')\n",
    "    \n",
    "    plt.close(fig)  # Close the figure\n",
    "    print('done')\n",
    "else:\n",
    "    print('skipped cell')"
   ]
  },
  {
   "cell_type": "code",
   "execution_count": 26,
   "id": "b4f3fc3d-4c12-487f-bb36-734b9b49e836",
   "metadata": {},
   "outputs": [
    {
     "name": "stdout",
     "output_type": "stream",
     "text": [
      "skipped cell\n"
     ]
    }
   ],
   "source": [
    "#SMOOTHED\n",
    "\n",
    "if 1 == 2:\n",
    "    import matplotlib.animation as animation\n",
    "    \n",
    "    print('start')\n",
    "    \n",
    "    # Calculate the quantiles\n",
    "    quantiles = [data_bad_events['dtDEtabyStation_0'].abs().quantile(i/40.0) for i in range(41)]\n",
    "    \n",
    "    # set up figure and animation\n",
    "    fig = plt.figure(figsize=(30, 30), dpi=100)\n",
    "    ax = fig.add_subplot(131)\n",
    "    im = ax.imshow(np.zeros((100,100)), interpolation='nearest', origin='lower',\n",
    "        extent=[-math.pi, math.pi, -2.5, 2.5], vmin=0, vmax=1)\n",
    "    cb = plt.colorbar(im, fraction=0.035, pad=0.04)\n",
    "    ax.yaxis.set_major_locator(ticker.MultipleLocator(0.1))\n",
    "    plt.subplots_adjust(left=0.1, right=0.9, bottom=0.1, top=0.9)\n",
    "    plt.tight_layout(pad=1.08, h_pad=None, w_pad=None, rect=None)\n",
    "    \n",
    "    \n",
    "    def updatefig(i):\n",
    "        if i == 0:\n",
    "            i0 = 0\n",
    "        elif i == 1:\n",
    "            i0 = quantiles[i-1]\n",
    "        else:\n",
    "            i0 = quantiles[i-2]\n",
    "            print('bin_'+str(i)+' done')\n",
    "    \n",
    "        if i == len(quantiles)-2:  # Second to last frame\n",
    "            i2 = quantiles[i+1]\n",
    "        elif i == len(quantiles)-1:  # Last frame\n",
    "            i2 = quantiles[i]\n",
    "        else:\n",
    "            i2 = quantiles[i+2]\n",
    "    \n",
    "        i1 = quantiles[i]\n",
    "        Data.proximity_mask = (i0 <= abs(data_bad_events['dtDEtabyStation_0'])) & (abs(data_bad_events['dtDEtabyStation_0']) <= i2)\n",
    "        \n",
    "        EventWeight = data_bad_events['EventWeight']\n",
    "        Muon_eta = data_bad_events['eta']\n",
    "        Muon_phi = data_bad_events['phi']\n",
    "    \n",
    "        Muon_Eta = [float(value) for value in Muon_eta[Data.proximity_mask]] #Muon_eta is eta masked\n",
    "        Muon_Phi = [float(value) for value in Muon_phi[Data.proximity_mask]] #Muon_phi is eta masked\n",
    "        Event_Weight = [float(value) for value in EventWeight[Data.proximity_mask]]\n",
    "    \n",
    "        Total_Hits = np.histogram2d(Muon_eta, Muon_phi, bins=(100,100), range=[[-2.5, 2.5],[-math.pi, math.pi]], density=None, weights=EventWeight)\n",
    "    \n",
    "        Prox_Hits = np.histogram2d(Muon_Eta, Muon_Phi, bins=(100,100), range=[[-2.5, 2.5],[-math.pi, math.pi]], density=None, weights=Event_Weight)\n",
    "        Eff_Hits = np.divide(Prox_Hits[0],Total_Hits[0])\n",
    "        xedges, yedges = Prox_Hits[2], Prox_Hits[1]\n",
    "        im.set_data(Eff_Hits)\n",
    "        ax.set_title(Data.name+' Station 0 DT hits, eta_mask + incremental isolation '+str(i0)+' <= DEta >= '+str(i2))\n",
    "        plt.xlabel('Muon $\\phi$')\n",
    "        plt.ylabel('Muon $\\eta$')\n",
    "        \n",
    "        return im,\n",
    "    \n",
    "    ani = animation.FuncAnimation(fig, updatefig, frames=range(len(quantiles)), interval=100, blit=True)\n",
    "    # Save the animation as a gif file\n",
    "    ani.save('animationSmoothed.gif', writer='imagemagick')\n",
    "    plt.close(fig)  # Close the figure\n",
    "    \n",
    "    print('done')\n",
    "else:\n",
    "    print('skipped cell')"
   ]
  },
  {
   "cell_type": "code",
   "execution_count": 27,
   "id": "10d4f614-69c2-442b-baf5-4b20ff1faf37",
   "metadata": {},
   "outputs": [
    {
     "name": "stdout",
     "output_type": "stream",
     "text": [
      "skipped cell\n"
     ]
    }
   ],
   "source": [
    "if 1==2:\n",
    "    \n",
    "    import matplotlib.animation as animation\n",
    "    \n",
    "    print('start')\n",
    "    \n",
    "    # Calculate the quantiles\n",
    "    quantiles = [data_bad_events['dtDEtabyStation_0'].abs().quantile(i/40.0) for i in range(41)]\n",
    "    \n",
    "    # set up figure and animation\n",
    "    fig = plt.figure(figsize=(30, 30), dpi=100)\n",
    "    ax = fig.add_subplot(131)\n",
    "    im = ax.imshow(np.zeros((100,100)), interpolation='nearest', origin='lower',\n",
    "        extent=[-math.pi, math.pi, -2.5, 2.5], vmin=0, vmax=0.1)\n",
    "    cb = plt.colorbar(im, fraction=0.035, pad=0.04)\n",
    "    ax.yaxis.set_major_locator(ticker.MultipleLocator(0.1))\n",
    "    plt.subplots_adjust(left=0.1, right=0.9, bottom=0.1, top=0.9)\n",
    "    plt.tight_layout(pad=1.08, h_pad=None, w_pad=None, rect=None)\n",
    "    \n",
    "    prev_Prox_Hits = np.zeros((100,100))  # Initialize prev_Prox_Hits as a 100x100 matrix of zeros\n",
    "    \n",
    "    def updatefig(i):\n",
    "        global prev_Prox_Hits  # Declare the use of a global variable inside the function\n",
    "        \n",
    "        if i == 0:\n",
    "            i0 = 0\n",
    "        elif i == 1:\n",
    "            i0 = quantiles[i-1]\n",
    "        else:\n",
    "            i0 = quantiles[i-2]\n",
    "            print('bin_'+str(i)+' done')\n",
    "    \n",
    "        if i == len(quantiles)-2:  # Second to last frame\n",
    "            i2 = quantiles[i+1]\n",
    "        elif i == len(quantiles)-1:  # Last frame\n",
    "            i2 = quantiles[i]\n",
    "        else:\n",
    "            i2 = quantiles[i+2]\n",
    "    \n",
    "        i1 = quantiles[i]\n",
    "        Data.proximity_mask = (i0 <= abs(data_bad_events['dtDEtabyStation_0'])) & (abs(data_bad_events['dtDEtabyStation_0']) <= i2)\n",
    "        \n",
    "        EventWeight = data_bad_events['EventWeight']\n",
    "        Muon_eta = data_bad_events['eta']\n",
    "        Muon_phi = data_bad_events['phi']\n",
    "    \n",
    "        Muon_Eta = [float(value) for value in Muon_eta[Data.proximity_mask]] #Muon_eta is eta masked\n",
    "        Muon_Phi = [float(value) for value in Muon_phi[Data.proximity_mask]] #Muon_phi is eta masked\n",
    "        Event_Weight = [float(value) for value in EventWeight[Data.proximity_mask]]\n",
    "    \n",
    "        Total_Hits = np.histogram2d(Muon_eta, Muon_phi, bins=(100,100), range=[[-2.5, 2.5],[-math.pi, math.pi]], density=None, weights=EventWeight)\n",
    "    \n",
    "        Prox_Hits = np.histogram2d(Muon_Eta, Muon_Phi, bins=(100,100), range=[[-2.5, 2.5],[-math.pi, math.pi]], density=None, weights=Event_Weight)\n",
    "        Eff_Hits = np.divide(Prox_Hits[0] - prev_Prox_Hits, Total_Hits[0])  # compute the difference between the Prox_Hits in the current and the last frame\n",
    "    \n",
    "        prev_Prox_Hits = Prox_Hits[0].copy()  # update prev_Prox_Hits for the next frame, using .copy() to avoid referencing the same array\n",
    "    \n",
    "        xedges, yedges = Prox_Hits[2], Prox_Hits[1]\n",
    "        im.set_data(Eff_Hits)\n",
    "        ax.set_title(Data.name+' Station 0 DT hits, eta_mask + incremental isolation differences '+str(i0)+' <= DEta >= '+str(i2))\n",
    "        plt.xlabel('Muon $\\phi$')\n",
    "        plt.ylabel('Muon $\\eta$')\n",
    "        return im,\n",
    "    \n",
    "    ani = animation.FuncAnimation(fig, updatefig, frames=range(len(quantiles)), interval=100, blit=True)\n",
    "    \n",
    "    # Save the animation as a gif file\n",
    "    ani.save('animationDifference.gif', writer='imagemagick')\n",
    "    \n",
    "    plt.close(fig)  # Close the figure\n",
    "    print('done')\n",
    "else:\n",
    "    print('skipped cell')"
   ]
  },
  {
   "cell_type": "code",
   "execution_count": 28,
   "id": "282e8e31-7583-4a38-8007-8f04f53c148a",
   "metadata": {},
   "outputs": [
    {
     "data": {
      "image/png": "[encoded data removed]",
      "text/plain": [
       "<Figure size 432x288 with 1 Axes>"
      ]
     },
     "metadata": {
      "needs_background": "light"
     },
     "output_type": "display_data"
    },
    {
     "data": {
      "image/png": "[encoded data removed]",
      "text/plain": [
       "<Figure size 432x288 with 1 Axes>"
      ]
     },
     "metadata": {
      "needs_background": "light"
     },
     "output_type": "display_data"
    },
    {
     "data": {
      "image/png": "[encoded data removed]",
      "text/plain": [
       "<Figure size 432x288 with 1 Axes>"
      ]
     },
     "metadata": {
      "needs_background": "light"
     },
     "output_type": "display_data"
    },
    {
     "data": {
      "image/png": "[encoded data removed]",
      "text/plain": [
       "<Figure size 432x288 with 1 Axes>"
      ]
     },
     "metadata": {
      "needs_background": "light"
     },
     "output_type": "display_data"
    },
    {
     "data": {
      "image/png": "[encoded data removed]",
      "text/plain": [
       "<Figure size 432x288 with 1 Axes>"
      ]
     },
     "metadata": {
      "needs_background": "light"
     },
     "output_type": "display_data"
    },
    {
     "data": {
      "image/png": "[encoded data removed]",
      "text/plain": [
       "<Figure size 432x288 with 1 Axes>"
      ]
     },
     "metadata": {
      "needs_background": "light"
     },
     "output_type": "display_data"
    },
    {
     "data": {
      "image/png": "[encoded data removed]",
      "text/plain": [
       "<Figure size 432x288 with 1 Axes>"
      ]
     },
     "metadata": {
      "needs_background": "light"
     },
     "output_type": "display_data"
    },
    {
     "data": {
      "image/png": "[encoded data removed]",
      "text/plain": [
       "<Figure size 432x288 with 1 Axes>"
      ]
     },
     "metadata": {
      "needs_background": "light"
     },
     "output_type": "display_data"
    },
    {
     "data": {
      "image/png": "[encoded data removed]",
      "text/plain": [
       "<Figure size 432x288 with 1 Axes>"
      ]
     },
     "metadata": {
      "needs_background": "light"
     },
     "output_type": "display_data"
    },
    {
     "data": {
      "image/png": "[encoded data removed]",
      "text/plain": [
       "<Figure size 432x288 with 1 Axes>"
      ]
     },
     "metadata": {
      "needs_background": "light"
     },
     "output_type": "display_data"
    },
    {
     "data": {
      "image/png": "[encoded data removed]",
      "text/plain": [
       "<Figure size 432x288 with 1 Axes>"
      ]
     },
     "metadata": {
      "needs_background": "light"
     },
     "output_type": "display_data"
    },
    {
     "data": {
      "image/png": "[encoded data removed]",
      "text/plain": [
       "<Figure size 432x288 with 1 Axes>"
      ]
     },
     "metadata": {
      "needs_background": "light"
     },
     "output_type": "display_data"
    },
    {
     "data": {
      "image/png": "[encoded data removed]",
      "text/plain": [
       "<Figure size 432x288 with 1 Axes>"
      ]
     },
     "metadata": {
      "needs_background": "light"
     },
     "output_type": "display_data"
    },
    {
     "data": {
      "image/png": "[encoded data removed]",
      "text/plain": [
       "<Figure size 432x288 with 1 Axes>"
      ]
     },
     "metadata": {
      "needs_background": "light"
     },
     "output_type": "display_data"
    },
    {
     "data": {
      "image/png": "[encoded data removed]",
      "text/plain": [
       "<Figure size 432x288 with 1 Axes>"
      ]
     },
     "metadata": {
      "needs_background": "light"
     },
     "output_type": "display_data"
    },
    {
     "data": {
      "image/png": "[encoded data removed]",
      "text/plain": [
       "<Figure size 432x288 with 1 Axes>"
      ]
     },
     "metadata": {
      "needs_background": "light"
     },
     "output_type": "display_data"
    }
   ],
   "source": [
    "weights = MC.EventWeight\n",
    "for i in range(4):\n",
    "    weights = weights*mcEvents['Ratio_Iter_'+str(i)].to_list()\n",
    "    plt.hist(weights, bins=100, range=(0, 5), density=None)\n",
    "    plt.xlabel('Iterated Ratio Weights')\n",
    "    plt.ylabel('Freq')\n",
    "    plt.show()\n",
    "\n",
    "for i in range(4):\n",
    "    weights = MC.EventWeight*mcEvents['Ratio_Station_'+str(i)].to_list()\n",
    "    plt.hist(weights, bins=100, range=(0, 5), density=None)\n",
    "    plt.xlabel('Ratio Weights')\n",
    "    plt.ylabel('Freq')\n",
    "    plt.show()\n",
    "\n",
    "for i in range(4):\n",
    "    plt.scatter(mcEvents['dtDRbyStation_'+str(i)].to_list(), mcEvents['EventWeight'].to_list())\n",
    "    plt.xlabel('DR')\n",
    "    plt.ylabel('Event Weight')\n",
    "    plt.show()\n",
    "\n",
    "for i in range(4):\n",
    "    plt.scatter(mcEvents['dtDRbyStation_'+str(i)].to_list(), mcEvents['Ratio_Station_'+str(i)].to_list())\n",
    "    plt.xlabel('DR')\n",
    "    plt.ylabel('Ratio Weight')\n",
    "    plt.show()"
   ]
  }
 ],
 "metadata": {
  "kernelspec": {
   "display_name": "Python 3",
   "language": "python",
   "name": "python3"
  },
  "language_info": {
   "codemirror_mode": {
    "name": "ipython",
    "version": 3
   },
   "file_extension": ".py",
   "mimetype": "text/x-python",
   "name": "python",
   "nbconvert_exporter": "python",
   "pygments_lexer": "ipython3",
   "version": "3.6.8"
  }
 },
 "nbformat": 4,
 "nbformat_minor": 5
}
