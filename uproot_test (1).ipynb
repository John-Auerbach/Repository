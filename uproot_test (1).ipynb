{
 "cells": [
  {
   "cell_type": "code",
   "execution_count": 1,
   "id": "5fc048f3-3c3d-44eb-bd92-0d4dd672a915",
   "metadata": {},
   "outputs": [
    {
     "data": {
      "text/plain": [
       "<ReadOnlyDirectory '/' at 0x7f5075085350>"
      ]
     },
     "execution_count": 1,
     "metadata": {},
     "output_type": "execute_result"
    }
   ],
   "source": [
    "import uproot\n",
    "file = uproot.open('uproot-tutorial-file.root')\n",
    "file"
   ]
  },
  {
   "cell_type": "code",
   "execution_count": 2,
   "id": "7637df88-71bb-4e7b-8eef-5e24c255c916",
   "metadata": {},
   "outputs": [
    {
     "data": {
      "text/plain": [
       "['Events;1']"
      ]
     },
     "execution_count": 2,
     "metadata": {},
     "output_type": "execute_result"
    }
   ],
   "source": [
    "file.keys()"
   ]
  },
  {
   "cell_type": "code",
   "execution_count": 3,
   "id": "fd12a9b5-6d0e-415b-86bc-de50c31c4b44",
   "metadata": {},
   "outputs": [
    {
     "data": {
      "text/plain": [
       "{'Events;1': 'TTree'}"
      ]
     },
     "execution_count": 3,
     "metadata": {},
     "output_type": "execute_result"
    }
   ],
   "source": [
    "file.classnames()"
   ]
  },
  {
   "cell_type": "code",
   "execution_count": 4,
   "id": "4827e8a9-b4cb-4c01-8ea1-daedc7833030",
   "metadata": {},
   "outputs": [
    {
     "data": {
      "text/plain": [
       "<TTree 'Events' (6 branches) at 0x7f50750856d0>"
      ]
     },
     "execution_count": 4,
     "metadata": {},
     "output_type": "execute_result"
    }
   ],
   "source": [
    "file['Events']"
   ]
  },
  {
   "cell_type": "code",
   "execution_count": 5,
   "id": "57ab857f-70fe-4be9-8633-ac2c726e11b1",
   "metadata": {},
   "outputs": [
    {
     "data": {
      "text/plain": [
       "['nMuon', 'Muon_pt', 'Muon_eta', 'Muon_phi', 'Muon_mass', 'Muon_charge']"
      ]
     },
     "execution_count": 5,
     "metadata": {},
     "output_type": "execute_result"
    }
   ],
   "source": [
    "tree = file['Events']\n",
    "tree.keys()"
   ]
  },
  {
   "cell_type": "code",
   "execution_count": 6,
   "id": "9c507ca2-0622-4d6c-afdf-61ba4ce661b9",
   "metadata": {},
   "outputs": [
    {
     "data": {
      "text/plain": [
       "<Array [{nMuon: 2, Muon_pt: [10.8, ... -1, 1]}] type='100000 * {\"nMuon\": uint32,...'>"
      ]
     },
     "execution_count": 6,
     "metadata": {},
     "output_type": "execute_result"
    }
   ],
   "source": [
    "tree.arrays()"
   ]
  },
  {
   "cell_type": "code",
   "execution_count": 7,
   "id": "2620ef9e-98f5-4ccf-a791-d0b5a6e84be3",
   "metadata": {},
   "outputs": [
    {
     "data": {
      "text/plain": [
       "<Array [2, 2, 1, 4, 4, 3, ... 0, 3, 2, 3, 2, 3] type='100000 * uint32'>"
      ]
     },
     "execution_count": 7,
     "metadata": {},
     "output_type": "execute_result"
    }
   ],
   "source": [
    "branches = tree.arrays()\n",
    "branches['nMuon']"
   ]
  },
  {
   "cell_type": "code",
   "execution_count": 8,
   "id": "fb264651-702a-44f4-bec3-1065b636867b",
   "metadata": {},
   "outputs": [
    {
     "data": {
      "text/plain": [
       "<Array [[10.8, 15.7], ... 11.4, 3.08, 4.97]] type='100000 * var * float32'>"
      ]
     },
     "execution_count": 8,
     "metadata": {},
     "output_type": "execute_result"
    }
   ],
   "source": [
    "branches['Muon_pt']"
   ]
  },
  {
   "cell_type": "code",
   "execution_count": 9,
   "id": "6e20a657-e5d4-4c16-a7b2-4a117d4c0c04",
   "metadata": {},
   "outputs": [
    {
     "data": {
      "text/plain": [
       "<Array [10.8, 15.7] type='2 * float32'>"
      ]
     },
     "execution_count": 9,
     "metadata": {},
     "output_type": "execute_result"
    }
   ],
   "source": [
    "branches['Muon_pt'][0]"
   ]
  },
  {
   "cell_type": "code",
   "execution_count": 10,
   "id": "f75f3d72-7381-4a83-a591-6fa767200294",
   "metadata": {},
   "outputs": [
    {
     "data": {
      "text/plain": [
       "<Array [3.28] type='1 * float32'>"
      ]
     },
     "execution_count": 10,
     "metadata": {},
     "output_type": "execute_result"
    }
   ],
   "source": [
    "branches['Muon_pt'][2]"
   ]
  },
  {
   "cell_type": "code",
   "execution_count": 11,
   "id": "12b2b4f5-396e-47f9-970d-136ed3747b2a",
   "metadata": {},
   "outputs": [
    {
     "name": "stdout",
     "output_type": "stream",
     "text": [
      "[10.8, 15.7]\n",
      "[10.5, 16.3]\n",
      "[3.28]\n",
      "[11.4, 17.6, 9.62, 3.5]\n",
      "[3.28, 3.64, 32.9, 23.7]\n",
      "[3.57, 4.57, 4.37]\n",
      "[57.6, 53]\n",
      "[11.3, 23.9]\n",
      "[10.2, 14.2]\n",
      "[11.5, 3.47]\n"
     ]
    }
   ],
   "source": [
    "for i in range(10):\n",
    "    print(branches['Muon_pt'][i])"
   ]
  },
  {
   "cell_type": "code",
   "execution_count": 12,
   "id": "01ece384-9c7e-4cf8-8b80-6bd9bd51b297",
   "metadata": {},
   "outputs": [
    {
     "data": {
      "text/plain": [
       "<Record ... 0.106], Muon_charge: [-1, -1]} type='{\"nMuon\": uint32, \"Muon_pt\": va...'>"
      ]
     },
     "execution_count": 12,
     "metadata": {},
     "output_type": "execute_result"
    }
   ],
   "source": [
    "branches[0]"
   ]
  },
  {
   "cell_type": "code",
   "execution_count": 13,
   "id": "768149e8-586a-41c1-921b-9d8def7f4b06",
   "metadata": {},
   "outputs": [
    {
     "data": {
      "text/plain": [
       "{'nMuon': 2,\n",
       " 'Muon_pt': [10.763696670532227, 15.736522674560547],\n",
       " 'Muon_eta': [1.0668272972106934, -0.563786506652832],\n",
       " 'Muon_phi': [-0.03427272289991379, 2.5426154136657715],\n",
       " 'Muon_mass': [0.10565836727619171, 0.10565836727619171],\n",
       " 'Muon_charge': [-1, -1]}"
      ]
     },
     "execution_count": 13,
     "metadata": {},
     "output_type": "execute_result"
    }
   ],
   "source": [
    "branches[0].tolist()"
   ]
  },
  {
   "cell_type": "code",
   "execution_count": 14,
   "id": "ecbb9257-1265-4689-8cc3-d311df29ddad",
   "metadata": {},
   "outputs": [
    {
     "data": {
      "text/plain": [
       "(array([8.7359e+04, 1.2253e+04, 3.5600e+02, 2.8000e+01, 2.0000e+00,\n",
       "        1.0000e+00, 0.0000e+00, 0.0000e+00, 0.0000e+00, 1.0000e+00]),\n",
       " array([ 0. ,  3.9,  7.8, 11.7, 15.6, 19.5, 23.4, 27.3, 31.2, 35.1, 39. ]),\n",
       " <BarContainer object of 10 artists>)"
      ]
     },
     "execution_count": 14,
     "metadata": {},
     "output_type": "execute_result"
    },
    {
     "data": {
      "image/png": "[encoded data removed]",
      "text/plain": [
       "<Figure size 432x288 with 1 Axes>"
      ]
     },
     "metadata": {
      "needs_background": "light"
     },
     "output_type": "display_data"
    }
   ],
   "source": [
    "import matplotlib.pyplot as plt\n",
    "plt.hist(branches['nMuon'])"
   ]
  },
  {
   "cell_type": "code",
   "execution_count": 15,
   "id": "76d87c38-d39f-44f1-9716-09270e422496",
   "metadata": {},
   "outputs": [
    {
     "data": {
      "image/png": "[encoded data removed]",
      "text/plain": [
       "<Figure size 432x288 with 1 Axes>"
      ]
     },
     "metadata": {
      "needs_background": "light"
     },
     "output_type": "display_data"
    }
   ],
   "source": [
    "plt.hist(branches['nMuon'], bins=10, range=(0, 10))\n",
    "plt.show()"
   ]
  },
  {
   "cell_type": "code",
   "execution_count": 16,
   "id": "03964a24-9c74-4694-9840-8920f5f96799",
   "metadata": {},
   "outputs": [
    {
     "name": "stdout",
     "output_type": "stream",
     "text": [
      "2.35286 1.19175912851549 0 39\n"
     ]
    }
   ],
   "source": [
    "import numpy as np\n",
    "mean = np.mean(branches['nMuon'])\n",
    "std = np.std(branches['nMuon'])\n",
    "min = np.min(branches['nMuon'])\n",
    "max = np.max(branches['nMuon'])\n",
    "print(mean, std, min, max)"
   ]
  },
  {
   "cell_type": "code",
   "execution_count": 17,
   "id": "3e836046-2073-467f-9929-8662ebdb9238",
   "metadata": {},
   "outputs": [
    {
     "data": {
      "image/png": "[encoded data removed]",
      "text/plain": [
       "<Figure size 432x288 with 1 Axes>"
      ]
     },
     "metadata": {
      "needs_background": "light"
     },
     "output_type": "display_data"
    }
   ],
   "source": [
    "plt.hist(branches['nMuon'], bins=10, range=(0, 10))\n",
    "plt.xlabel('Number of muons in event')\n",
    "plt.ylabel('Number of events')\n",
    "plt.show()"
   ]
  },
  {
   "cell_type": "code",
   "execution_count": 18,
   "id": "635ab109-068e-403f-a715-9b1d22fae225",
   "metadata": {},
   "outputs": [
    {
     "data": {
      "image/png": "[encoded data removed]",
      "text/plain": [
       "<Figure size 432x288 with 1 Axes>"
      ]
     },
     "metadata": {
      "needs_background": "light"
     },
     "output_type": "display_data"
    }
   ],
   "source": [
    "import awkward as ak\n",
    "plt.hist(ak.flatten(branches['Muon_pt']), bins=100, range=(0, 100))\n",
    "plt.xlabel('Muon $p_{\\mathrm{T}}$ [GeV]')\n",
    "plt.ylabel('Number of muons / 1 GeV')\n",
    "plt.show()"
   ]
  },
  {
   "cell_type": "code",
   "execution_count": 19,
   "id": "bcd400db-a16e-43bd-a3bc-f4b81800e69e",
   "metadata": {},
   "outputs": [
    {
     "data": {
      "image/png": "[encoded data removed]",
      "text/plain": [
       "<Figure size 432x288 with 1 Axes>"
      ]
     },
     "metadata": {
      "needs_background": "light"
     },
     "output_type": "display_data"
    }
   ],
   "source": [
    "plt.hist(ak.flatten(branches['Muon_pt']), bins=100, range=(0, 100))\n",
    "plt.xlabel('Muon $p_{\\mathrm{T}}$ [GeV]')\n",
    "plt.ylabel('Number of muons / 1 GeV')\n",
    "plt.yscale('log')\n",
    "plt.show()"
   ]
  },
  {
   "cell_type": "code",
   "execution_count": 20,
   "id": "4b5aa860-23b8-41e2-ac67-4a13a8900955",
   "metadata": {},
   "outputs": [
    {
     "data": {
      "image/png": "[encoded data removed]",
      "text/plain": [
       "<Figure size 432x288 with 1 Axes>"
      ]
     },
     "metadata": {
      "needs_background": "light"
     },
     "output_type": "display_data"
    }
   ],
   "source": [
    "import numpy as np\n",
    "plt.hist(ak.flatten(branches['Muon_pt']), bins=np.logspace(np.log10(1), np.log10(100), 100))\n",
    "plt.xlabel('Muon $p_{\\mathrm{T}}$ [GeV]')\n",
    "plt.xscale('log')\n",
    "plt.ylabel('Number of muons')\n",
    "plt.show()"
   ]
  },
  {
   "cell_type": "code",
   "execution_count": 21,
   "id": "c449a238-6c63-4c13-8d0e-b4a6e3538da4",
   "metadata": {},
   "outputs": [
    {
     "data": {
      "image/png": "[encoded data removed]",
      "text/plain": [
       "<Figure size 432x288 with 1 Axes>"
      ]
     },
     "metadata": {
      "needs_background": "light"
     },
     "output_type": "display_data"
    }
   ],
   "source": [
    "plt.hist(ak.flatten(branches['Muon_eta']), bins=50, range=(-2.5, 2.5))\n",
    "plt.xlabel('Muon $\\eta$')\n",
    "plt.ylabel('Number of muons')\n",
    "plt.show()"
   ]
  },
  {
   "cell_type": "code",
   "execution_count": 22,
   "id": "db3472fc-217f-4751-a3ab-b909f77b5329",
   "metadata": {},
   "outputs": [
    {
     "data": {
      "text/plain": [
       "100000"
      ]
     },
     "execution_count": 22,
     "metadata": {},
     "output_type": "execute_result"
    }
   ],
   "source": [
    "len(branches['nMuon'])"
   ]
  },
  {
   "cell_type": "code",
   "execution_count": 23,
   "id": "67d11700-e0a6-48db-9628-55240447ab1f",
   "metadata": {},
   "outputs": [
    {
     "data": {
      "text/plain": [
       "235286"
      ]
     },
     "execution_count": 23,
     "metadata": {},
     "output_type": "execute_result"
    }
   ],
   "source": [
    "len(ak.flatten(branches['Muon_pt']))"
   ]
  },
  {
   "cell_type": "code",
   "execution_count": 24,
   "id": "8c3b23f7-7aa6-439c-8431-3037efc46c6c",
   "metadata": {},
   "outputs": [
    {
     "data": {
      "text/plain": [
       "<Array [False, False, True, ... False, False] type='100000 * bool'>"
      ]
     },
     "execution_count": 24,
     "metadata": {},
     "output_type": "execute_result"
    }
   ],
   "source": [
    "branches['nMuon'] == 1"
   ]
  },
  {
   "cell_type": "code",
   "execution_count": 25,
   "id": "5a9fc268-663d-45a7-91cf-67f70a5c6920",
   "metadata": {},
   "outputs": [
    {
     "data": {
      "text/plain": [
       "13447"
      ]
     },
     "execution_count": 25,
     "metadata": {},
     "output_type": "execute_result"
    }
   ],
   "source": [
    "single_muon_mask = branches['nMuon'] == 1\n",
    "np.sum(single_muon_mask)"
   ]
  },
  {
   "cell_type": "code",
   "execution_count": 26,
   "id": "5f19cf8f-bd92-422b-866b-ef80993037be",
   "metadata": {},
   "outputs": [
    {
     "data": {
      "text/plain": [
       "<Array [[3.28], [3.84], ... [13.3], [9.48]] type='13447 * var * float32'>"
      ]
     },
     "execution_count": 26,
     "metadata": {},
     "output_type": "execute_result"
    }
   ],
   "source": [
    "branches['Muon_pt'][single_muon_mask]"
   ]
  },
  {
   "cell_type": "code",
   "execution_count": 27,
   "id": "53388b50-a056-447b-acfb-7eebf6a49ca9",
   "metadata": {},
   "outputs": [
    {
     "data": {
      "text/plain": [
       "13447"
      ]
     },
     "execution_count": 27,
     "metadata": {},
     "output_type": "execute_result"
    }
   ],
   "source": [
    "len(branches['Muon_pt'][single_muon_mask])"
   ]
  },
  {
   "cell_type": "code",
   "execution_count": 28,
   "id": "179b1a12-fcc6-4dae-8ae7-f327b27217e9",
   "metadata": {},
   "outputs": [
    {
     "data": {
      "image/png": "[encoded data removed]",
      "text/plain": [
       "<Figure size 432x288 with 1 Axes>"
      ]
     },
     "metadata": {
      "needs_background": "light"
     },
     "output_type": "display_data"
    }
   ],
   "source": [
    "plt.hist(ak.flatten(branches['Muon_pt'][single_muon_mask]), bins=100, range=(0,100))\n",
    "plt.xlabel('Muon $p_{/mathrm{T}}$ [GeV]')\n",
    "plt.ylabel('Number of single muons / 1 GeV')\n",
    "plt.yscale('log')\n",
    "plt.show()"
   ]
  },
  {
   "cell_type": "code",
   "execution_count": 29,
   "id": "d3211f80-8d46-42bd-92e8-0b44007fdc5d",
   "metadata": {},
   "outputs": [
    {
     "data": {
      "text/plain": [
       "<Array [[True, True], ... True, True, True]] type='100000 * var * bool'>"
      ]
     },
     "execution_count": 29,
     "metadata": {},
     "output_type": "execute_result"
    }
   ],
   "source": [
    "eta_mask = abs(branches['Muon_eta']) < 2\n",
    "eta_mask"
   ]
  },
  {
   "cell_type": "code",
   "execution_count": 30,
   "id": "61ca4641-fc58-4515-bc85-38ee6ec32433",
   "metadata": {},
   "outputs": [
    {
     "data": {
      "text/plain": [
       "204564"
      ]
     },
     "execution_count": 30,
     "metadata": {},
     "output_type": "execute_result"
    }
   ],
   "source": [
    "np.sum(eta_mask)\n"
   ]
  },
  {
   "cell_type": "code",
   "execution_count": 31,
   "id": "59550820-7201-4b54-937f-d02a727049bb",
   "metadata": {},
   "outputs": [
    {
     "data": {
      "image/png": "[encoded data removed]",
      "text/plain": [
       "<Figure size 432x288 with 1 Axes>"
      ]
     },
     "metadata": {
      "needs_background": "light"
     },
     "output_type": "display_data"
    },
    {
     "data": {
      "image/png": "[encoded data removed]",
      "text/plain": [
       "<Figure size 432x288 with 1 Axes>"
      ]
     },
     "metadata": {
      "needs_background": "light"
     },
     "output_type": "display_data"
    }
   ],
   "source": [
    "plt.hist(ak.flatten(branches['Muon_eta']), bins=50, range=(-2.5, 2.5))\n",
    "plt.title('No selection')\n",
    "plt.xlabel('Muon $\\eta$')\n",
    "plt.ylabel('Number of muons')\n",
    "plt.show()\n",
    "\n",
    "plt.hist(ak.flatten(branches['Muon_eta'][eta_mask]), bins=50, range=(-2.5, 2.5))\n",
    "plt.title('With $|\\eta| < 2$ selection')\n",
    "plt.xlabel('Muon $\\eta$')\n",
    "plt.ylabel('Number of muons')\n",
    "plt.show()"
   ]
  },
  {
   "cell_type": "code",
   "execution_count": 32,
   "id": "0fe1277b-577f-4dbb-a049-ed3381044aea",
   "metadata": {},
   "outputs": [
    {
     "name": "stdout",
     "output_type": "stream",
     "text": [
      "[True, True, False, True, True, True, True, ... True, True, True, True, True, True] [[False, False], [False, False], [False, ... [False, False], [False, False, False]] [[True, True], [True, True], [True], ... True], [True, True], [True, True, True]]\n"
     ]
    }
   ],
   "source": [
    "NOT = ~single_muon_mask\n",
    "INTSC = single_muon_mask & eta_mask\n",
    "UNION = single_muon_mask | eta_mask\n",
    "print(NOT, INTSC, UNION)\n"
   ]
  },
  {
   "cell_type": "code",
   "execution_count": 33,
   "id": "477df54a-ff4d-4343-b0b0-4c0f2ea740fe",
   "metadata": {},
   "outputs": [
    {
     "data": {
      "image/png": "[encoded data removed]",
      "text/plain": [
       "<Figure size 432x288 with 1 Axes>"
      ]
     },
     "metadata": {
      "needs_background": "light"
     },
     "output_type": "display_data"
    }
   ],
   "source": [
    "plt.hist([ak.flatten(branches['Muon_pt'][single_muon_mask & eta_mask]), \n",
    "         ak.flatten(branches['Muon_pt'][single_muon_mask & ~eta_mask])],\n",
    "         bins=25, range=(0,50))\n",
    "plt.xlabel('Muon $p_{\\mathrm{T}}$ [GeV]')\n",
    "plt.ylabel('Number of single muons / 2 GeV')\n",
    "plt.show()\n",
    "        "
   ]
  },
  {
   "cell_type": "code",
   "execution_count": 34,
   "id": "190989ec-7f2a-4ca6-baf2-e7a9d36a197d",
   "metadata": {},
   "outputs": [
    {
     "data": {
      "image/png": "[encoded data removed]",
      "text/plain": [
       "<Figure size 432x288 with 1 Axes>"
      ]
     },
     "metadata": {
      "needs_background": "light"
     },
     "output_type": "display_data"
    }
   ],
   "source": [
    "plt.hist([ak.flatten(branches['Muon_pt'][single_muon_mask & eta_mask]),\n",
    "          ak.flatten(branches['Muon_pt'][single_muon_mask & ~eta_mask])],\n",
    "         label=['$|\\eta| < 2$', '$|\\eta| \\geq 2$'],\n",
    "         bins=25, range=(0, 50))\n",
    "plt.xlabel('Muon $p_{\\mathrm{T}}$ [GeV]')\n",
    "plt.ylabel('Number of single muons / 2 GeV')\n",
    "plt.legend()\n",
    "plt.show()"
   ]
  },
  {
   "cell_type": "code",
   "execution_count": 35,
   "id": "984a0c5c-e4f0-4430-9b20-3327b207375b",
   "metadata": {},
   "outputs": [
    {
     "data": {
      "image/png": "[encoded data removed]",
      "text/plain": [
       "<Figure size 432x288 with 1 Axes>"
      ]
     },
     "metadata": {
      "needs_background": "light"
     },
     "output_type": "display_data"
    }
   ],
   "source": [
    "plt.hist([ak.flatten(branches['Muon_pt'][single_muon_mask & eta_mask]),\n",
    "          ak.flatten(branches['Muon_pt'][single_muon_mask & ~eta_mask])],\n",
    "         label=['$|\\eta| < 2$', '$|\\eta| \\geq 2$'],\n",
    "         bins=25, range=(0, 50), density=True)\n",
    "plt.title('Normalized')\n",
    "plt.xlabel('Muon $p_{\\mathrm{T}}$ [GeV]')\n",
    "plt.ylabel('Number of single muons / 2 GeV')\n",
    "plt.legend()\n",
    "plt.show()"
   ]
  },
  {
   "cell_type": "code",
   "execution_count": 36,
   "id": "723f3c66-182e-428f-b79a-9c987d7a373b",
   "metadata": {},
   "outputs": [
    {
     "name": "stdout",
     "output_type": "stream",
     "text": [
      "[[{rho: 10.8, phi: -0.0343, eta: 1.07, tau: 0.106}, ... eta: 0.477, tau: 0.106}]]\n"
     ]
    }
   ],
   "source": [
    "import vector\n",
    "two_muons_mask = branches['nMuon'] == 2\n",
    "muon_p4 = vector.zip({'pt':branches['Muon_pt'], \n",
    "                      'eta': branches['Muon_eta'], \n",
    "                      'phi': branches['Muon_phi'], \n",
    "                      'mass':branches['Muon_mass']})\n",
    "two_muons_p4 = muon_p4[two_muons_mask]\n",
    "print(two_muons_p4)"
   ]
  },
  {
   "cell_type": "code",
   "execution_count": 37,
   "id": "2969884f-123c-4ffd-886e-5c7cc93433a6",
   "metadata": {},
   "outputs": [
    {
     "name": "stdout",
     "output_type": "stream",
     "text": [
      "[[10.8, 15.7], [10.5, 16.3], [57.6, 53], ... 9.58, 3.33], [46.4, 43.9], [3.31, 15.7]] [[1.07, -0.564], [-0.428, 0.349], [-0.532, ... 2.2], [-1.93, -2.27], [1.64, 0.477]] [[-0.0343, 2.54], [-0.275, 2.54], [-0.0718, ... -2.71], [-2.38, 0.86], [0.88, -1.75]] [[17.5, 18.3], [11.5, 17.3], [66, 82.1], ... [22.8, 15.2], [163, 215], [8.82, 17.5]] [[0.106, 0.106], [0.106, 0.106], [0.106, ... 0.106], [0.106, 0.106], [0.106, 0.106]]\n"
     ]
    }
   ],
   "source": [
    "print(\n",
    "two_muons_p4.pt,\n",
    "two_muons_p4.eta,\n",
    "two_muons_p4.phi,\n",
    "two_muons_p4.E,\n",
    "two_muons_p4.mass\n",
    ")"
   ]
  },
  {
   "cell_type": "code",
   "execution_count": 38,
   "id": "f61ad194-75f4-4f50-b600-277ad6b6eec7",
   "metadata": {},
   "outputs": [
    {
     "data": {
      "image/png": "[encoded data removed]",
      "text/plain": [
       "<Figure size 432x288 with 1 Axes>"
      ]
     },
     "metadata": {
      "needs_background": "light"
     },
     "output_type": "display_data"
    }
   ],
   "source": [
    "first_muon_p4 = two_muons_p4[:,0]\n",
    "second_muon_p4 = two_muons_p4[:,1]\n",
    "\n",
    "plt.hist(first_muon_p4.deltaR(second_muon_p4), bins=100)\n",
    "plt.xlabel('$\\Delta R$ between muons')\n",
    "plt.ylabel('Number of two-muon events')\n",
    "plt.show()"
   ]
  },
  {
   "cell_type": "code",
   "execution_count": 39,
   "id": "f5c69ce2-0add-4778-9333-585f5f5f3975",
   "metadata": {},
   "outputs": [
    {
     "data": {
      "text/plain": [
       "<MomentumArray4D [{rho: 8.79, phi: 1.83, ... tau: 16.5}] type='48976 * Momentum4...'>"
      ]
     },
     "execution_count": 39,
     "metadata": {},
     "output_type": "execute_result"
    }
   ],
   "source": [
    "sum_p4 = first_muon_p4 + second_muon_p4\n",
    "sum_p4"
   ]
  },
  {
   "cell_type": "code",
   "execution_count": 40,
   "id": "737de239-6c9f-4b84-b872-b5b88f715898",
   "metadata": {},
   "outputs": [
    {
     "data": {
      "image/png": "[encoded data removed]",
      "text/plain": [
       "<Figure size 432x288 with 1 Axes>"
      ]
     },
     "metadata": {
      "needs_background": "light"
     },
     "output_type": "display_data"
    }
   ],
   "source": [
    "two_muons_charges = branches['Muon_charge'][two_muons_mask]\n",
    "opposite_sign_muons_mask = two_muons_charges[:,0] != two_muons_charges[:,1]\n",
    "dimuon_p4 = sum_p4[opposite_sign_muons_mask]\n",
    "\n",
    "plt.hist(dimuon_p4.mass, bins=np.logspace(np.log10(0.1), np.log10(1000), 200))\n",
    "plt.xlabel('Dimuon invariant mass [GeV]')\n",
    "plt.ylabel('Number of dimuon events')\n",
    "plt.xscale('log')\n",
    "plt.yscale('log')\n",
    "plt.show()"
   ]
  },
  {
   "cell_type": "code",
   "execution_count": 41,
   "id": "b0925362-5a70-4e38-973b-1cf46601d177",
   "metadata": {},
   "outputs": [
    {
     "data": {
      "image/png": "[encoded data removed]",
      "text/plain": [
       "<Figure size 432x288 with 1 Axes>"
      ]
     },
     "metadata": {
      "needs_background": "light"
     },
     "output_type": "display_data"
    }
   ],
   "source": [
    "#zoom in on Z-Resonance\n",
    "plt.hist(dimuon_p4.mass, bins=40, range=(70, 110))\n",
    "plt.xlabel('Dimuon invariant mass [GeV]')\n",
    "plt.ylabel('Number of dimuon events / 1 MeV')\n",
    "plt.show()"
   ]
  },
  {
   "cell_type": "code",
   "execution_count": 42,
   "id": "849f93b6-6a50-4065-8bee-65790a08640e",
   "metadata": {},
   "outputs": [
    {
     "data": {
      "image/png": "[encoded data removed]",
      "text/plain": [
       "<Figure size 432x288 with 1 Axes>"
      ]
     },
     "metadata": {
      "needs_background": "light"
     },
     "output_type": "display_data"
    }
   ],
   "source": [
    "from scipy.optimize import curve_fit\n",
    "\n",
    "def relativistic_breit_wigner(x, resonance_mass, width, normalization):\n",
    "    gamma = np.sqrt(resonance_mass ** 2 * (resonance_mass ** 2 + width ** 2))\n",
    "    k = 2.0 * np.sqrt(2) * resonance_mass * width * gamma / (np.pi * np.sqrt(resonance_mass ** 2 + gamma))\n",
    "    return normalization * k / ((x ** 2 - resonance_mass ** 2) ** 2 + resonance_mass ** 2 * width ** 2)\n",
    "\n",
    "bin_contents, bin_edges = np.histogram(dimuon_p4.mass.to_numpy(), bins=20, range=(80, 100))\n",
    "bin_centers = (bin_edges[:-1] + bin_edges[1:]) / 2.0\n",
    "popt, pcov = curve_fit(relativistic_breit_wigner, bin_centers, bin_contents, p0=[90, 10, 1000], sigma=np.sqrt(bin_contents))\n",
    "\n",
    "plt.hist(dimuon_p4.mass, bins=40, range=(70, 110), label='Data')\n",
    "x = np.linspace(80, 100, 200)\n",
    "y = relativistic_breit_wigner(x, *popt)\n",
    "plt.plot(x, y, label='Fit')\n",
    "plt.xlabel('Dimuon invariant mass [GeV]')\n",
    "plt.ylabel('Number of dimuon events / 1 MeV')\n",
    "plt.legend()\n",
    "plt.show()"
   ]
  },
  {
   "cell_type": "code",
   "execution_count": null,
   "id": "741d7f23-820a-400f-88ed-1a653b8576b4",
   "metadata": {},
   "outputs": [],
   "source": []
  }
 ],
 "metadata": {
  "kernelspec": {
   "display_name": "Python 3",
   "language": "python",
   "name": "python3"
  },
  "language_info": {
   "codemirror_mode": {
    "name": "ipython",
    "version": 3
   },
   "file_extension": ".py",
   "mimetype": "text/x-python",
   "name": "python",
   "nbconvert_exporter": "python",
   "pygments_lexer": "ipython3",
   "version": "3.6.8"
  }
 },
 "nbformat": 4,
 "nbformat_minor": 5
}
